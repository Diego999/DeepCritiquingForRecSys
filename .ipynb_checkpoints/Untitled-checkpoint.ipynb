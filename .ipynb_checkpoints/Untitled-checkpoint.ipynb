{
 "cells": [
  {
   "cell_type": "code",
   "execution_count": 1,
   "metadata": {},
   "outputs": [
    {
     "name": "stdout",
     "output_type": "stream",
     "text": [
      "[nltk_data] Downloading package averaged_perceptron_tagger to\n",
      "[nltk_data]     /home/wuga/nltk_data...\n",
      "[nltk_data]   Package averaged_perceptron_tagger is already up-to-\n",
      "[nltk_data]       date!\n"
     ]
    }
   ],
   "source": [
    "import pandas as pd\n",
    "import matplotlib.pyplot as plt\n",
    "from nltk.tokenize import RegexpTokenizer\n",
    "from collections import Counter\n",
    "import nltk\n",
    "import re\n",
    "nltk.download('averaged_perceptron_tagger')\n",
    "from nltk.corpus import stopwords\n",
    "from nltk.tag import PerceptronTagger\n",
    "from nltk.data import find\n",
    "from tqdm import tqdm"
   ]
  },
  {
   "cell_type": "code",
   "execution_count": 2,
   "metadata": {},
   "outputs": [
    {
     "name": "stderr",
     "output_type": "stream",
     "text": [
      "8898041it [02:26, 60629.15it/s]\n"
     ]
    }
   ],
   "source": [
    "import json\n",
    "from tqdm import tqdm\n",
    "\n",
    "user_count = Counter()\n",
    "item_count = Counter()\n",
    "with open('data/book/Books_5.json') as f:\n",
    "    for line in tqdm(f):\n",
    "        line_content = json.loads(line)\n",
    "        if len(line_content['reviewText']) > 20:\n",
    "            user_count[line_content['reviewerID']] += 1\n",
    "            item_count[line_content['asin']] += 1\n",
    "        \n",
    "user_candidates = {x for x in user_count if (user_count[x] >= 50) and (user_count[x] <= 2000)}\n",
    "item_candidates = {x for x in item_count if (item_count[x] >= 50) and (item_count[x] <= 2000)}"
   ]
  },
  {
   "cell_type": "code",
   "execution_count": 3,
   "metadata": {},
   "outputs": [
    {
     "name": "stderr",
     "output_type": "stream",
     "text": [
      "8898041it [02:31, 58925.15it/s]\n"
     ]
    }
   ],
   "source": [
    "data = []\n",
    "with open('data/book/Books_5.json') as f:\n",
    "    for line in tqdm(f):\n",
    "        line_content = json.loads(line)\n",
    "        if (line_content['reviewerID'] in user_candidates \n",
    "            and line_content['asin'] in item_candidates):\n",
    "            data.append(line_content)\n",
    "            \n",
    "df = pd.DataFrame(data)"
   ]
  },
  {
   "cell_type": "code",
   "execution_count": 4,
   "metadata": {},
   "outputs": [
    {
     "data": {
      "text/html": [
       "<div>\n",
       "<style>\n",
       "    .dataframe thead tr:only-child th {\n",
       "        text-align: right;\n",
       "    }\n",
       "\n",
       "    .dataframe thead th {\n",
       "        text-align: left;\n",
       "    }\n",
       "\n",
       "    .dataframe tbody tr th {\n",
       "        vertical-align: top;\n",
       "    }\n",
       "</style>\n",
       "<table border=\"1\" class=\"dataframe\">\n",
       "  <thead>\n",
       "    <tr style=\"text-align: right;\">\n",
       "      <th></th>\n",
       "      <th>asin</th>\n",
       "      <th>helpful</th>\n",
       "      <th>overall</th>\n",
       "      <th>reviewText</th>\n",
       "      <th>reviewTime</th>\n",
       "      <th>reviewerID</th>\n",
       "      <th>reviewerName</th>\n",
       "      <th>summary</th>\n",
       "      <th>unixReviewTime</th>\n",
       "    </tr>\n",
       "  </thead>\n",
       "  <tbody>\n",
       "    <tr>\n",
       "      <th>0</th>\n",
       "      <td>000100039X</td>\n",
       "      <td>[0, 2]</td>\n",
       "      <td>5.0</td>\n",
       "      <td>This is one my must have books. It is a master...</td>\n",
       "      <td>12 11, 2003</td>\n",
       "      <td>A2S166WSCFIFP5</td>\n",
       "      <td>adead_poet@hotmail.com \"adead_poet@hotmail.com\"</td>\n",
       "      <td>close to god</td>\n",
       "      <td>1071100800</td>\n",
       "    </tr>\n",
       "    <tr>\n",
       "      <th>1</th>\n",
       "      <td>000100039X</td>\n",
       "      <td>[7, 9]</td>\n",
       "      <td>5.0</td>\n",
       "      <td>A timeless classic.  It is a very demanding an...</td>\n",
       "      <td>10 7, 2002</td>\n",
       "      <td>A2XQ5LZHTD4AFT</td>\n",
       "      <td>Alaturka</td>\n",
       "      <td>A Modern Rumi</td>\n",
       "      <td>1033948800</td>\n",
       "    </tr>\n",
       "    <tr>\n",
       "      <th>2</th>\n",
       "      <td>000100039X</td>\n",
       "      <td>[0, 0]</td>\n",
       "      <td>5.0</td>\n",
       "      <td>Deep, moving dramatic verses of the heart and ...</td>\n",
       "      <td>11 3, 2013</td>\n",
       "      <td>A29TRDMK51GKZR</td>\n",
       "      <td>Alpine Plume</td>\n",
       "      <td>Such Beauty</td>\n",
       "      <td>1383436800</td>\n",
       "    </tr>\n",
       "    <tr>\n",
       "      <th>3</th>\n",
       "      <td>000100039X</td>\n",
       "      <td>[0, 0]</td>\n",
       "      <td>5.0</td>\n",
       "      <td>When I was in college in the 70's this book ha...</td>\n",
       "      <td>02 28, 2001</td>\n",
       "      <td>A2I35JB67U20C0</td>\n",
       "      <td>Amazon Customer</td>\n",
       "      <td>Everyone should have this book</td>\n",
       "      <td>983318400</td>\n",
       "    </tr>\n",
       "    <tr>\n",
       "      <th>4</th>\n",
       "      <td>000100039X</td>\n",
       "      <td>[0, 0]</td>\n",
       "      <td>5.0</td>\n",
       "      <td>I have the 1972 version, bought in 1974. The 1...</td>\n",
       "      <td>07 16, 2012</td>\n",
       "      <td>A1TT4CY55WLHAR</td>\n",
       "      <td>anonymous</td>\n",
       "      <td>textured paper, old-style typography, and leat...</td>\n",
       "      <td>1342396800</td>\n",
       "    </tr>\n",
       "  </tbody>\n",
       "</table>\n",
       "</div>"
      ],
      "text/plain": [
       "         asin helpful  overall  \\\n",
       "0  000100039X  [0, 2]      5.0   \n",
       "1  000100039X  [7, 9]      5.0   \n",
       "2  000100039X  [0, 0]      5.0   \n",
       "3  000100039X  [0, 0]      5.0   \n",
       "4  000100039X  [0, 0]      5.0   \n",
       "\n",
       "                                          reviewText   reviewTime  \\\n",
       "0  This is one my must have books. It is a master...  12 11, 2003   \n",
       "1  A timeless classic.  It is a very demanding an...   10 7, 2002   \n",
       "2  Deep, moving dramatic verses of the heart and ...   11 3, 2013   \n",
       "3  When I was in college in the 70's this book ha...  02 28, 2001   \n",
       "4  I have the 1972 version, bought in 1974. The 1...  07 16, 2012   \n",
       "\n",
       "       reviewerID                                     reviewerName  \\\n",
       "0  A2S166WSCFIFP5  adead_poet@hotmail.com \"adead_poet@hotmail.com\"   \n",
       "1  A2XQ5LZHTD4AFT                                         Alaturka   \n",
       "2  A29TRDMK51GKZR                                     Alpine Plume   \n",
       "3  A2I35JB67U20C0                                  Amazon Customer   \n",
       "4  A1TT4CY55WLHAR                                        anonymous   \n",
       "\n",
       "                                             summary  unixReviewTime  \n",
       "0                                       close to god      1071100800  \n",
       "1                                      A Modern Rumi      1033948800  \n",
       "2                                        Such Beauty      1383436800  \n",
       "3                     Everyone should have this book       983318400  \n",
       "4  textured paper, old-style typography, and leat...      1342396800  "
      ]
     },
     "execution_count": 4,
     "metadata": {},
     "output_type": "execute_result"
    }
   ],
   "source": [
    "df.head()"
   ]
  },
  {
   "cell_type": "code",
   "execution_count": 5,
   "metadata": {},
   "outputs": [
    {
     "data": {
      "text/plain": [
       "1939811"
      ]
     },
     "execution_count": 5,
     "metadata": {},
     "output_type": "execute_result"
    }
   ],
   "source": [
    "len(df)"
   ]
  },
  {
   "cell_type": "code",
   "execution_count": 6,
   "metadata": {},
   "outputs": [
    {
     "data": {
      "text/plain": [
       "34344"
      ]
     },
     "execution_count": 6,
     "metadata": {},
     "output_type": "execute_result"
    }
   ],
   "source": [
    "df.asin.nunique()"
   ]
  },
  {
   "cell_type": "code",
   "execution_count": 7,
   "metadata": {},
   "outputs": [
    {
     "data": {
      "text/plain": [
       "58298"
      ]
     },
     "execution_count": 7,
     "metadata": {},
     "output_type": "execute_result"
    }
   ],
   "source": [
    "df.reviewerID.nunique()"
   ]
  },
  {
   "cell_type": "code",
   "execution_count": 8,
   "metadata": {},
   "outputs": [
    {
     "data": {
      "text/plain": [
       "0.0009688463029662044"
      ]
     },
     "execution_count": 8,
     "metadata": {},
     "output_type": "execute_result"
    }
   ],
   "source": [
    "float(len(df))/(df.asin.nunique()*df.reviewerID.nunique())"
   ]
  },
  {
   "cell_type": "code",
   "execution_count": 9,
   "metadata": {},
   "outputs": [
    {
     "data": {
      "text/plain": [
       "1476755590    1129\n",
       "1476741182     861\n",
       "1476712980     816\n",
       "0989450201     802\n",
       "0307277674     777\n",
       "0988301318     771\n",
       "0989104400     758\n",
       "1480536466     753\n",
       "0989450236     746\n",
       "0062294776     743\n",
       "0307265439     733\n",
       "1476776016     733\n",
       "1476761779     731\n",
       "0989450252     716\n",
       "149539090X     707\n",
       "0451419707     697\n",
       "1495307352     697\n",
       "0385660065     689\n",
       "1455576506     681\n",
       "1490559175     681\n",
       "0439023491     672\n",
       "006230240X     667\n",
       "149043013X     666\n",
       "030728090X     666\n",
       "0425266745     663\n",
       "061579615X     637\n",
       "0307744434     632\n",
       "014118776X     630\n",
       "1476755604     620\n",
       "125005236X     619\n",
       "              ... \n",
       "0545349206       2\n",
       "1623152437       2\n",
       "0545222281       2\n",
       "1623153301       2\n",
       "0805440399       2\n",
       "095682370X       2\n",
       "1435217993       2\n",
       "1607085240       2\n",
       "032119991X       2\n",
       "1623152917       2\n",
       "1623152615       2\n",
       "0956823769       1\n",
       "1623153182       1\n",
       "1623152674       1\n",
       "B009L72X3U       1\n",
       "1623152828       1\n",
       "1623152585       1\n",
       "1493625012       1\n",
       "1623152631       1\n",
       "162315054X       1\n",
       "0439877563       1\n",
       "1623153832       1\n",
       "1623152372       1\n",
       "1623152526       1\n",
       "B0074D57K4       1\n",
       "1623152429       1\n",
       "0956823726       1\n",
       "1623152879       1\n",
       "B007415LUM       1\n",
       "1623152453       1\n",
       "Name: asin, Length: 34344, dtype: int64"
      ]
     },
     "execution_count": 9,
     "metadata": {},
     "output_type": "execute_result"
    }
   ],
   "source": [
    "df.asin.value_counts()"
   ]
  },
  {
   "cell_type": "code",
   "execution_count": 12,
   "metadata": {},
   "outputs": [
    {
     "data": {
      "text/plain": [
       "AYT4FJYVCHYLE     599\n",
       "A3KBRXW4PKK2MT    571\n",
       "A1S3IN6CSTBPY6    569\n",
       "A3IQ0P3M39IY8U    568\n",
       "A3Z9QN0RCOHEY     551\n",
       "A3OL1AX1IODBYL    549\n",
       "ABMX8XUNPR3LP     545\n",
       "A2H44WVZS59KKT    540\n",
       "A2IEQ2QLPYH8I3    535\n",
       "A3BFDEBT5IV4UN    532\n",
       "A4SKIA2A7IDRX     532\n",
       "A1RMHZSWZ7ZEQO    527\n",
       "A25HYPL2XKQPZB    524\n",
       "A19UT0OPQCDR8     504\n",
       "A3VMCKYN22X0CO    503\n",
       "A3U29LBT749HJ0    503\n",
       "A33JTEMYGCO69V    486\n",
       "A17U562HOY2OQV    485\n",
       "A39ABKRS1MKFTW    484\n",
       "A6XR7Y415RPD0     483\n",
       "A11GG623AD89YT    478\n",
       "A16QQ78I8J29PA    472\n",
       "A8N3FYDA2VUYY     471\n",
       "A2YJ8VP1SSHJ7     464\n",
       "A2XXQJBK2IDMGI    463\n",
       "AW4NFCPN81CS3     457\n",
       "A11L3YX5WIDKJ     456\n",
       "AD9HAE7DPTQDG     456\n",
       "A3KM84RAZA7XXC    453\n",
       "A1GARI2JT6EAWA    448\n",
       "                 ... \n",
       "AK9YM6AQRC8GH       1\n",
       "A1LJ3IRGRTECFL      1\n",
       "A2W6WNONRB8HO0      1\n",
       "AWN0A6LEBII1Y       1\n",
       "A3T2X3MKFRM5EP      1\n",
       "A48YAV9RIZLD6       1\n",
       "A124UGX9SB53U7      1\n",
       "AKUURPDPR1FWT       1\n",
       "A30YLUI779UBVE      1\n",
       "A3TJ0JT5NNQ1B9      1\n",
       "A35HU9X3YZNEJU      1\n",
       "A3SGSNLCHHU7BD      1\n",
       "A2566NSBE138RW      1\n",
       "ACC00ZPJ89UEF       1\n",
       "A2KH62KKRM60H0      1\n",
       "A2EAIVZWO6IDFN      1\n",
       "A2YEEZR9HEVRKG      1\n",
       "ATJVTM49HHW3Y       1\n",
       "A3GR7HX4GYKCE9      1\n",
       "A26IT8ESJZ04HZ      1\n",
       "A3IKZCNLIKKXK1      1\n",
       "A2SYN6WH32QZQT      1\n",
       "AP5K9Z4FTDVCQ       1\n",
       "A1X9KPFR737I3O      1\n",
       "AONO9ZQLD4H7G       1\n",
       "A3QDJD269744L2      1\n",
       "A1Q6NWOHDMIUBD      1\n",
       "A3K7YCEJFYJJ15      1\n",
       "A2NJ5OBJ6M7CDB      1\n",
       "A3IF5F74ES9KJF      1\n",
       "Name: reviewerID, Length: 58298, dtype: int64"
      ]
     },
     "execution_count": 12,
     "metadata": {},
     "output_type": "execute_result"
    }
   ],
   "source": [
    "df.reviewerID.value_counts()"
   ]
  },
  {
   "cell_type": "code",
   "execution_count": null,
   "metadata": {
    "collapsed": true
   },
   "outputs": [],
   "source": []
  }
 ],
 "metadata": {
  "kernelspec": {
   "display_name": "Python 2",
   "language": "python",
   "name": "python2"
  },
  "language_info": {
   "codemirror_mode": {
    "name": "ipython",
    "version": 2
   },
   "file_extension": ".py",
   "mimetype": "text/x-python",
   "name": "python",
   "nbconvert_exporter": "python",
   "pygments_lexer": "ipython2",
   "version": "2.7.12"
  }
 },
 "nbformat": 4,
 "nbformat_minor": 2
}
