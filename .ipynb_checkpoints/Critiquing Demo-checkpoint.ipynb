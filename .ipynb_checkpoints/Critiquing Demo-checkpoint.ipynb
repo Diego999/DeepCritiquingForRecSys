{
 "cells": [
  {
   "cell_type": "markdown",
   "metadata": {},
   "source": [
    "# Imports"
   ]
  },
  {
   "cell_type": "code",
   "execution_count": 1,
   "metadata": {},
   "outputs": [],
   "source": [
    "from utils.io import load_yaml\n",
    "from utils.modelnames import critiquing_models\n",
    "from utils.sampler import Negative_Sampler\n",
    "\n",
    "import ast\n",
    "import numpy as np\n",
    "import pandas as pd"
   ]
  },
  {
   "cell_type": "code",
   "execution_count": 62,
   "metadata": {},
   "outputs": [],
   "source": [
    "DATA_DIR = \"data/beer/\"\n",
    "EPOCH = 100\n",
    "ITEM_COL = \"ItemIndex\"\n",
    "KEYPHRASE_SET = \"KeyPhrases.csv\"\n",
    "KEYPHRASE_VECTOR_COL = \"keyVector\"\n",
    "LAMB = 0.0001\n",
    "LEARNING_RATE = 0.0001\n",
    "MODEL = \"CE-VNCF\"\n",
    "MODEL_SAVED_PATH = \"beer\"\n",
    "NEGATIVE_SAMPLING_SIZE = 5\n",
    "NUM_LAYERS = 1\n",
    "RANK = 200\n",
    "RATING_COL = \"Binary\"\n",
    "TEST_SET = \"Test.csv\"\n",
    "TOPK = 10\n",
    "TOPK_KEYPHRASE = 5\n",
    "TRAIN_BATCH_SIZE = 128\n",
    "TRAIN_SET = \"Train.csv\"\n",
    "USER_COL = \"UserIndex\""
   ]
  },
  {
   "cell_type": "markdown",
   "metadata": {},
   "source": [
    "# Load Dataset"
   ]
  },
  {
   "cell_type": "code",
   "execution_count": 3,
   "metadata": {},
   "outputs": [
    {
     "name": "stdout",
     "output_type": "stream",
     "text": [
      "Number of users: 6370.\n",
      "Number of items: 3668.\n"
     ]
    }
   ],
   "source": [
    "num_users = pd.read_csv(DATA_DIR + USER_COL + '.csv')[USER_COL].nunique()\n",
    "num_items = pd.read_csv(DATA_DIR + ITEM_COL + '.csv')[ITEM_COL].nunique()\n",
    "\n",
    "print(\"Number of users: {}.\".format(num_users))\n",
    "print(\"Number of items: {}.\".format(num_items))"
   ]
  },
  {
   "cell_type": "code",
   "execution_count": 4,
   "metadata": {},
   "outputs": [],
   "source": [
    "df_train = pd.read_csv(DATA_DIR + TRAIN_SET)\n",
    "df_train = df_train[df_train[RATING_COL] == 1]\n",
    "df_train[KEYPHRASE_VECTOR_COL] = df_train[KEYPHRASE_VECTOR_COL].apply(ast.literal_eval)"
   ]
  },
  {
   "cell_type": "code",
   "execution_count": 5,
   "metadata": {},
   "outputs": [],
   "source": [
    "df_valid = pd.read_csv(DATA_DIR + TEST_SET)"
   ]
  },
  {
   "cell_type": "code",
   "execution_count": 103,
   "metadata": {},
   "outputs": [
    {
     "name": "stdout",
     "output_type": "stream",
     "text": [
      "Number of keyphrases: 75.\n"
     ]
    }
   ],
   "source": [
    "keyphrase_names = pd.read_csv(DATA_DIR + KEYPHRASE_SET, index_col=False).values\n",
    "\n",
    "num_keyphrases = len(keyphrase_names)\n",
    "print(\"Number of keyphrases: {}.\".format(num_keyphrases))"
   ]
  },
  {
   "cell_type": "code",
   "execution_count": 25,
   "metadata": {},
   "outputs": [],
   "source": [
    "df_items = pd.read_csv('data/beer/ItemIndex.csv', index_col=False).drop_duplicates().sort_values('ItemIndex').reset_index(drop=True)\n",
    "items_dict = df_items.set_index('ItemIndex').to_dict()['beer/name']"
   ]
  },
  {
   "cell_type": "markdown",
   "metadata": {},
   "source": [
    "# Initialize Negative Sampler"
   ]
  },
  {
   "cell_type": "code",
   "execution_count": 8,
   "metadata": {},
   "outputs": [],
   "source": [
    "negative_sampler = Negative_Sampler(df_train[[USER_COL,\n",
    "                                              ITEM_COL,\n",
    "                                              KEYPHRASE_VECTOR_COL]],\n",
    "                                    USER_COL,\n",
    "                                    ITEM_COL,\n",
    "                                    RATING_COL,\n",
    "                                    KEYPHRASE_VECTOR_COL,\n",
    "                                    num_items,\n",
    "                                    batch_size=TRAIN_BATCH_SIZE,\n",
    "                                    num_keyphrases=num_keyphrases,\n",
    "                                    negative_sampling_size=NEGATIVE_SAMPLING_SIZE)"
   ]
  },
  {
   "cell_type": "markdown",
   "metadata": {},
   "source": [
    "# Train"
   ]
  },
  {
   "cell_type": "code",
   "execution_count": 9,
   "metadata": {},
   "outputs": [],
   "source": [
    "model = critiquing_models[MODEL](num_users=num_users,\n",
    "                                 num_items=num_items,\n",
    "                                 text_dim=num_keyphrases,\n",
    "                                 embed_dim=RANK,\n",
    "                                 num_layers=NUM_LAYERS,\n",
    "                                 negative_sampler=negative_sampler,\n",
    "                                 lamb=LAMB,\n",
    "                                 learning_rate=LEARNING_RATE)"
   ]
  },
  {
   "cell_type": "code",
   "execution_count": 10,
   "metadata": {},
   "outputs": [
    {
     "name": "stdout",
     "output_type": "stream",
     "text": [
      "INFO:tensorflow:Restoring parameters from pretrained/beer/CE-VNCF/model.ckpt\n",
      "Model restored.\n"
     ]
    }
   ],
   "source": [
    "pretrained_path = load_yaml('config/global.yml', key='path')['pretrained']\n",
    "try:\n",
    "    model.load_model(pretrained_path+MODEL_SAVED_PATH, MODEL)\n",
    "except:\n",
    "    model.train_model(df_train,\n",
    "                      user_col=USER_COL,\n",
    "                      item_col=ITEM_COL,\n",
    "                      rating_col=RATING_COL,\n",
    "                      epoch=EPOCH)"
   ]
  },
  {
   "cell_type": "markdown",
   "metadata": {},
   "source": [
    "# Case Study 1"
   ]
  },
  {
   "cell_type": "code",
   "execution_count": 87,
   "metadata": {},
   "outputs": [],
   "source": [
    "user_index = 292"
   ]
  },
  {
   "cell_type": "markdown",
   "metadata": {},
   "source": [
    "## Predict"
   ]
  },
  {
   "cell_type": "code",
   "execution_count": 88,
   "metadata": {},
   "outputs": [],
   "source": [
    "inputs = np.array([[user_index, item_index] for item_index in range(num_items)])"
   ]
  },
  {
   "cell_type": "code",
   "execution_count": 89,
   "metadata": {},
   "outputs": [],
   "source": [
    "rating, explanation = model.predict(inputs)"
   ]
  },
  {
   "cell_type": "markdown",
   "metadata": {},
   "source": [
    "## Initial Recommended Items"
   ]
  },
  {
   "cell_type": "code",
   "execution_count": 109,
   "metadata": {},
   "outputs": [
    {
     "name": "stdout",
     "output_type": "stream",
     "text": [
      "Top 1 Recommended Item ID: 2927. Product Name: Sierra Nevada Torpedo Extra IPA\n",
      "Top 2 Recommended Item ID: 976. Product Name: Double Jack\n",
      "Top 3 Recommended Item ID: 1412. Product Name: Harpoon Leviathan - Imperial IPA\n",
      "Top 4 Recommended Item ID: 3121. Product Name: Stone 15th Anniversary Escondidian Imperial Black IPA\n",
      "Top 5 Recommended Item ID: 1552. Product Name: Hop Rod Rye\n",
      "Top 6 Recommended Item ID: 42. Product Name: 30th Anniversary - Grand Cru\n",
      "Top 7 Recommended Item ID: 2501. Product Name: Punkin Ale\n",
      "Top 8 Recommended Item ID: 1589. Product Name: Hoptimum Double IPA - Beer Camp #19\n",
      "Top 9 Recommended Item ID: 2516. Product Name: Racer 5 India Pale Ale\n",
      "Top 10 Recommended Item ID: 2081. Product Name: Mokah\n"
     ]
    }
   ],
   "source": [
    "top_items = rating.flatten().argsort()[::-1][:TOPK]\n",
    "\n",
    "for k, top_item in enumerate(top_items):\n",
    "    print(\"Top {} Recommended Item ID: {}. Product Name: {}\".format(k+1, top_item, items_dict[top_item]))"
   ]
  },
  {
   "cell_type": "code",
   "execution_count": 111,
   "metadata": {},
   "outputs": [
    {
     "data": {
      "text/plain": [
       "array([2927,  976, 1412, 3121, 1552,   42, 2501, 1589, 2516, 2081])"
      ]
     },
     "execution_count": 111,
     "metadata": {},
     "output_type": "execute_result"
    }
   ],
   "source": [
    "top_items"
   ]
  },
  {
   "cell_type": "markdown",
   "metadata": {},
   "source": [
    "## Initial Predicted Explanation"
   ]
  },
  {
   "cell_type": "code",
   "execution_count": 110,
   "metadata": {},
   "outputs": [
    {
     "data": {
      "text/plain": [
       "array([[16, 12, 31,  1, 34],\n",
       "       [14, 16, 12, 39, 45],\n",
       "       [16,  1, 12, 14,  2],\n",
       "       [16,  1,  6, 12, 50],\n",
       "       [25, 12, 16, 58,  1],\n",
       "       [ 1, 14, 12, 16, 39],\n",
       "       [ 1, 21, 55, 39, 14],\n",
       "       [ 1, 16, 14, 12, 45],\n",
       "       [12, 16, 31,  1, 34],\n",
       "       [ 6, 50, 16,  1,  0]])"
      ]
     },
     "execution_count": 110,
     "metadata": {},
     "output_type": "execute_result"
    }
   ],
   "source": [
    "explanation_rank_list = np.argsort(-explanation, axis=1)[:, :TOPK_KEYPHRASE]\n",
    "top_explanation = explanation_rank_list[top_items]\n",
    "top_explanation"
   ]
  },
  {
   "cell_type": "markdown",
   "metadata": {},
   "source": [
    "## Initial Prediction Summary"
   ]
  },
  {
   "cell_type": "code",
   "execution_count": 119,
   "metadata": {
    "scrolled": false
   },
   "outputs": [
    {
     "name": "stdout",
     "output_type": "stream",
     "text": [
      "Top 1 Item ID: 2927. Product Name: Sierra Nevada Torpedo Extra IPA.\n",
      "Top 1 Keyphrase ID: 16. Keyphrase Name: bitter\n",
      "Top 2 Keyphrase ID: 12. Keyphrase Name: citrus\n",
      "Top 3 Keyphrase ID: 31. Keyphrase Name:  pine \n",
      "Top 4 Keyphrase ID: 1. Keyphrase Name: sweet\n",
      "Top 5 Keyphrase ID: 34. Keyphrase Name: grapefruit\n",
      "\n",
      "\n",
      "Top 2 Item ID: 976. Product Name: Double Jack.\n",
      "Top 1 Keyphrase ID: 14. Keyphrase Name: fruit\n",
      "Top 2 Keyphrase ID: 16. Keyphrase Name: bitter\n",
      "Top 3 Keyphrase ID: 12. Keyphrase Name: citrus\n",
      "Top 4 Keyphrase ID: 39. Keyphrase Name: orang\n",
      "Top 5 Keyphrase ID: 45. Keyphrase Name: gold\n",
      "\n",
      "\n",
      "Top 3 Item ID: 1412. Product Name: Harpoon Leviathan - Imperial IPA.\n",
      "Top 1 Keyphrase ID: 16. Keyphrase Name: bitter\n",
      "Top 2 Keyphrase ID: 1. Keyphrase Name: sweet\n",
      "Top 3 Keyphrase ID: 12. Keyphrase Name: citrus\n",
      "Top 4 Keyphrase ID: 14. Keyphrase Name: fruit\n",
      "Top 5 Keyphrase ID: 2. Keyphrase Name: caramel\n",
      "\n",
      "\n",
      "Top 4 Item ID: 3121. Product Name: Stone 15th Anniversary Escondidian Imperial Black IPA.\n",
      "Top 1 Keyphrase ID: 16. Keyphrase Name: bitter\n",
      "Top 2 Keyphrase ID: 1. Keyphrase Name: sweet\n",
      "Top 3 Keyphrase ID: 6. Keyphrase Name: chocolate\n",
      "Top 4 Keyphrase ID: 12. Keyphrase Name: citrus\n",
      "Top 5 Keyphrase ID: 50. Keyphrase Name: black\n",
      "\n",
      "\n",
      "Top 5 Item ID: 1552. Product Name: Hop Rod Rye.\n",
      "Top 1 Keyphrase ID: 25. Keyphrase Name:  rye \n",
      "Top 2 Keyphrase ID: 12. Keyphrase Name: citrus\n",
      "Top 3 Keyphrase ID: 16. Keyphrase Name: bitter\n",
      "Top 4 Keyphrase ID: 58. Keyphrase Name:  red \n",
      "Top 5 Keyphrase ID: 1. Keyphrase Name: sweet\n",
      "\n",
      "\n",
      "Top 6 Item ID: 42. Product Name: 30th Anniversary - Grand Cru.\n",
      "Top 1 Keyphrase ID: 1. Keyphrase Name: sweet\n",
      "Top 2 Keyphrase ID: 14. Keyphrase Name: fruit\n",
      "Top 3 Keyphrase ID: 12. Keyphrase Name: citrus\n",
      "Top 4 Keyphrase ID: 16. Keyphrase Name: bitter\n",
      "Top 5 Keyphrase ID: 39. Keyphrase Name: orang\n",
      "\n",
      "\n",
      "Top 7 Item ID: 2501. Product Name: Punkin Ale.\n",
      "Top 1 Keyphrase ID: 1. Keyphrase Name: sweet\n",
      "Top 2 Keyphrase ID: 21. Keyphrase Name: spic\n",
      "Top 3 Keyphrase ID: 55. Keyphrase Name: smooth\n",
      "Top 4 Keyphrase ID: 39. Keyphrase Name: orang\n",
      "Top 5 Keyphrase ID: 14. Keyphrase Name: fruit\n",
      "\n",
      "\n",
      "Top 8 Item ID: 1589. Product Name: Hoptimum Double IPA - Beer Camp #19.\n",
      "Top 1 Keyphrase ID: 1. Keyphrase Name: sweet\n",
      "Top 2 Keyphrase ID: 16. Keyphrase Name: bitter\n",
      "Top 3 Keyphrase ID: 14. Keyphrase Name: fruit\n",
      "Top 4 Keyphrase ID: 12. Keyphrase Name: citrus\n",
      "Top 5 Keyphrase ID: 45. Keyphrase Name: gold\n",
      "\n",
      "\n",
      "Top 9 Item ID: 2516. Product Name: Racer 5 India Pale Ale.\n",
      "Top 1 Keyphrase ID: 12. Keyphrase Name: citrus\n",
      "Top 2 Keyphrase ID: 16. Keyphrase Name: bitter\n",
      "Top 3 Keyphrase ID: 31. Keyphrase Name:  pine \n",
      "Top 4 Keyphrase ID: 1. Keyphrase Name: sweet\n",
      "Top 5 Keyphrase ID: 34. Keyphrase Name: grapefruit\n",
      "\n",
      "\n",
      "Top 10 Item ID: 2081. Product Name: Mokah.\n",
      "Top 1 Keyphrase ID: 6. Keyphrase Name: chocolate\n",
      "Top 2 Keyphrase ID: 50. Keyphrase Name: black\n",
      "Top 3 Keyphrase ID: 16. Keyphrase Name: bitter\n",
      "Top 4 Keyphrase ID: 1. Keyphrase Name: sweet\n",
      "Top 5 Keyphrase ID: 0. Keyphrase Name: roast\n",
      "\n",
      "\n"
     ]
    }
   ],
   "source": [
    "for k1, top_item_keyphrase in enumerate(top_explanation):\n",
    "    print(\"Top {} Item ID: {}. Product Name: {}.\".format(k1+1, top_items[k1], items_dict[top_items[k1]]))\n",
    "    for k2, top_keyphrase in enumerate(top_item_keyphrase):\n",
    "        print(\"Top {} Keyphrase ID: {}. Keyphrase Name: {}\".format(k2+1, top_keyphrase, keyphrase_names[top_keyphrase][0]))\n",
    "    print(\"\\n\")"
   ]
  },
  {
   "cell_type": "markdown",
   "metadata": {},
   "source": [
    "## Start Critiquing"
   ]
  },
  {
   "cell_type": "code",
   "execution_count": 131,
   "metadata": {},
   "outputs": [
    {
     "name": "stdout",
     "output_type": "stream",
     "text": [
      "Critiqued Keyphrase ID: 14.\n",
      "Critiqued Keyphrase Name: fruit.\n"
     ]
    }
   ],
   "source": [
    "keyphrase_index = 14\n",
    "print(\"Critiqued Keyphrase ID: {}.\\nCritiqued Keyphrase Name: {}.\".format(keyphrase_index, keyphrase_names[keyphrase_index][0]))"
   ]
  },
  {
   "cell_type": "markdown",
   "metadata": {},
   "source": [
    "## Zero out the critiqued keyphrase in all affected items"
   ]
  },
  {
   "cell_type": "code",
   "execution_count": 124,
   "metadata": {},
   "outputs": [],
   "source": [
    "explanation[:, keyphrase_index] = np.min(explanation, axis=1)"
   ]
  },
  {
   "cell_type": "code",
   "execution_count": 125,
   "metadata": {},
   "outputs": [],
   "source": [
    "modified_rating, modified_explanation = model.refine_predict(inputs, explanation)"
   ]
  },
  {
   "cell_type": "markdown",
   "metadata": {},
   "source": [
    "## Top Items Recommended after Critiquing"
   ]
  },
  {
   "cell_type": "code",
   "execution_count": 127,
   "metadata": {},
   "outputs": [
    {
     "name": "stdout",
     "output_type": "stream",
     "text": [
      "Top 1 Recommended Item ID: 2927. Product Name: Sierra Nevada Torpedo Extra IPA\n",
      "Top 2 Recommended Item ID: 3121. Product Name: Stone 15th Anniversary Escondidian Imperial Black IPA\n",
      "Top 3 Recommended Item ID: 2516. Product Name: Racer 5 India Pale Ale\n",
      "Top 4 Recommended Item ID: 1552. Product Name: Hop Rod Rye\n",
      "Top 5 Recommended Item ID: 1412. Product Name: Harpoon Leviathan - Imperial IPA\n",
      "Top 6 Recommended Item ID: 976. Product Name: Double Jack\n",
      "Top 7 Recommended Item ID: 3240. Product Name: Ten FIDY\n",
      "Top 8 Recommended Item ID: 2081. Product Name: Mokah\n",
      "Top 9 Recommended Item ID: 42. Product Name: 30th Anniversary - Grand Cru\n",
      "Top 10 Recommended Item ID: 1589. Product Name: Hoptimum Double IPA - Beer Camp #19\n"
     ]
    }
   ],
   "source": [
    "modified_top_items = modified_rating.flatten().argsort()[::-1][:TOPK]\n",
    "\n",
    "for k, modified_top_item in enumerate(modified_top_items):\n",
    "    print(\"Top {} Recommended Item ID: {}. Product Name: {}\".format(k+1, modified_top_item, items_dict[modified_top_item]))"
   ]
  },
  {
   "cell_type": "markdown",
   "metadata": {},
   "source": [
    "## Top Refined Explanation after Critiquing"
   ]
  },
  {
   "cell_type": "code",
   "execution_count": 128,
   "metadata": {},
   "outputs": [
    {
     "data": {
      "text/plain": [
       "array([[16, 12, 31,  1, 14],\n",
       "       [16,  1,  6, 50,  0],\n",
       "       [12, 16, 31,  1, 34],\n",
       "       [25, 16, 12,  1, 58],\n",
       "       [ 1, 16, 12, 14,  2],\n",
       "       [16, 12, 14,  1, 39],\n",
       "       [ 6, 50,  0,  8, 16],\n",
       "       [ 6, 50,  1,  0, 16],\n",
       "       [ 1, 14, 12, 16, 42],\n",
       "       [ 1, 16, 12, 14, 39]])"
      ]
     },
     "execution_count": 128,
     "metadata": {},
     "output_type": "execute_result"
    }
   ],
   "source": [
    "modified_explanation_rank_list = np.argsort(-modified_explanation, axis=1)[:, :TOPK_KEYPHRASE]\n",
    "modified_top_explanation = modified_explanation_rank_list[modified_top_items]\n",
    "modified_top_explanation"
   ]
  },
  {
   "cell_type": "markdown",
   "metadata": {},
   "source": [
    "## Refined Prediction Summary"
   ]
  },
  {
   "cell_type": "code",
   "execution_count": 129,
   "metadata": {},
   "outputs": [
    {
     "name": "stdout",
     "output_type": "stream",
     "text": [
      "Top 1 Item ID: 2927. Product Name: Sierra Nevada Torpedo Extra IPA.\n",
      "Top 1 Keyphrase ID: 16. Keyphrase Name: bitter\n",
      "Top 2 Keyphrase ID: 12. Keyphrase Name: citrus\n",
      "Top 3 Keyphrase ID: 31. Keyphrase Name:  pine \n",
      "Top 4 Keyphrase ID: 1. Keyphrase Name: sweet\n",
      "Top 5 Keyphrase ID: 14. Keyphrase Name: fruit\n",
      "\n",
      "\n",
      "Top 2 Item ID: 3121. Product Name: Stone 15th Anniversary Escondidian Imperial Black IPA.\n",
      "Top 1 Keyphrase ID: 16. Keyphrase Name: bitter\n",
      "Top 2 Keyphrase ID: 1. Keyphrase Name: sweet\n",
      "Top 3 Keyphrase ID: 6. Keyphrase Name: chocolate\n",
      "Top 4 Keyphrase ID: 50. Keyphrase Name: black\n",
      "Top 5 Keyphrase ID: 0. Keyphrase Name: roast\n",
      "\n",
      "\n",
      "Top 3 Item ID: 2516. Product Name: Racer 5 India Pale Ale.\n",
      "Top 1 Keyphrase ID: 12. Keyphrase Name: citrus\n",
      "Top 2 Keyphrase ID: 16. Keyphrase Name: bitter\n",
      "Top 3 Keyphrase ID: 31. Keyphrase Name:  pine \n",
      "Top 4 Keyphrase ID: 1. Keyphrase Name: sweet\n",
      "Top 5 Keyphrase ID: 34. Keyphrase Name: grapefruit\n",
      "\n",
      "\n",
      "Top 4 Item ID: 1552. Product Name: Hop Rod Rye.\n",
      "Top 1 Keyphrase ID: 25. Keyphrase Name:  rye \n",
      "Top 2 Keyphrase ID: 16. Keyphrase Name: bitter\n",
      "Top 3 Keyphrase ID: 12. Keyphrase Name: citrus\n",
      "Top 4 Keyphrase ID: 1. Keyphrase Name: sweet\n",
      "Top 5 Keyphrase ID: 58. Keyphrase Name:  red \n",
      "\n",
      "\n",
      "Top 5 Item ID: 1412. Product Name: Harpoon Leviathan - Imperial IPA.\n",
      "Top 1 Keyphrase ID: 1. Keyphrase Name: sweet\n",
      "Top 2 Keyphrase ID: 16. Keyphrase Name: bitter\n",
      "Top 3 Keyphrase ID: 12. Keyphrase Name: citrus\n",
      "Top 4 Keyphrase ID: 14. Keyphrase Name: fruit\n",
      "Top 5 Keyphrase ID: 2. Keyphrase Name: caramel\n",
      "\n",
      "\n",
      "Top 6 Item ID: 976. Product Name: Double Jack.\n",
      "Top 1 Keyphrase ID: 16. Keyphrase Name: bitter\n",
      "Top 2 Keyphrase ID: 12. Keyphrase Name: citrus\n",
      "Top 3 Keyphrase ID: 14. Keyphrase Name: fruit\n",
      "Top 4 Keyphrase ID: 1. Keyphrase Name: sweet\n",
      "Top 5 Keyphrase ID: 39. Keyphrase Name: orang\n",
      "\n",
      "\n",
      "Top 7 Item ID: 3240. Product Name: Ten FIDY.\n",
      "Top 1 Keyphrase ID: 6. Keyphrase Name: chocolate\n",
      "Top 2 Keyphrase ID: 50. Keyphrase Name: black\n",
      "Top 3 Keyphrase ID: 0. Keyphrase Name: roast\n",
      "Top 4 Keyphrase ID: 8. Keyphrase Name: coffee\n",
      "Top 5 Keyphrase ID: 16. Keyphrase Name: bitter\n",
      "\n",
      "\n",
      "Top 8 Item ID: 2081. Product Name: Mokah.\n",
      "Top 1 Keyphrase ID: 6. Keyphrase Name: chocolate\n",
      "Top 2 Keyphrase ID: 50. Keyphrase Name: black\n",
      "Top 3 Keyphrase ID: 1. Keyphrase Name: sweet\n",
      "Top 4 Keyphrase ID: 0. Keyphrase Name: roast\n",
      "Top 5 Keyphrase ID: 16. Keyphrase Name: bitter\n",
      "\n",
      "\n",
      "Top 9 Item ID: 42. Product Name: 30th Anniversary - Grand Cru.\n",
      "Top 1 Keyphrase ID: 1. Keyphrase Name: sweet\n",
      "Top 2 Keyphrase ID: 14. Keyphrase Name: fruit\n",
      "Top 3 Keyphrase ID: 12. Keyphrase Name: citrus\n",
      "Top 4 Keyphrase ID: 16. Keyphrase Name: bitter\n",
      "Top 5 Keyphrase ID: 42. Keyphrase Name:  white\n",
      "\n",
      "\n",
      "Top 10 Item ID: 1589. Product Name: Hoptimum Double IPA - Beer Camp #19.\n",
      "Top 1 Keyphrase ID: 1. Keyphrase Name: sweet\n",
      "Top 2 Keyphrase ID: 16. Keyphrase Name: bitter\n",
      "Top 3 Keyphrase ID: 12. Keyphrase Name: citrus\n",
      "Top 4 Keyphrase ID: 14. Keyphrase Name: fruit\n",
      "Top 5 Keyphrase ID: 39. Keyphrase Name: orang\n",
      "\n",
      "\n"
     ]
    }
   ],
   "source": [
    "for k1, modified_top_item_keyphrase in enumerate(modified_top_explanation):\n",
    "    print(\"Top {} Item ID: {}. Product Name: {}.\".format(k1+1, modified_top_items[k1], items_dict[modified_top_items[k1]]))\n",
    "    for k2, top_keyphrase in enumerate(modified_top_item_keyphrase):\n",
    "        print(\"Top {} Keyphrase ID: {}. Keyphrase Name: {}\".format(k2+1, top_keyphrase, keyphrase_names[top_keyphrase][0]))\n",
    "    print(\"\\n\")"
   ]
  },
  {
   "cell_type": "code",
   "execution_count": null,
   "metadata": {},
   "outputs": [],
   "source": []
  }
 ],
 "metadata": {
  "kernelspec": {
   "display_name": "TensorFlow-GPU",
   "language": "python",
   "name": "tf-gpu"
  },
  "language_info": {
   "codemirror_mode": {
    "name": "ipython",
    "version": 3
   },
   "file_extension": ".py",
   "mimetype": "text/x-python",
   "name": "python",
   "nbconvert_exporter": "python",
   "pygments_lexer": "ipython3",
   "version": "3.6.8"
  }
 },
 "nbformat": 4,
 "nbformat_minor": 2
}
