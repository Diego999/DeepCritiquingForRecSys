{
 "cells": [
  {
   "cell_type": "code",
   "execution_count": 1,
   "metadata": {},
   "outputs": [
    {
     "name": "stderr",
     "output_type": "stream",
     "text": [
      "[nltk_data] Downloading package averaged_perceptron_tagger to\n",
      "[nltk_data]     /home/wuga/nltk_data...\n",
      "[nltk_data]   Package averaged_perceptron_tagger is already up-to-\n",
      "[nltk_data]       date!\n",
      "[nltk_data] Downloading package punkt to /home/wuga/nltk_data...\n",
      "[nltk_data]   Package punkt is already up-to-date!\n"
     ]
    }
   ],
   "source": [
    "import pandas as pd\n",
    "import matplotlib.pyplot as plt\n",
    "from nltk.tokenize import RegexpTokenizer\n",
    "from collections import Counter\n",
    "import nltk\n",
    "import re\n",
    "nltk.download('averaged_perceptron_tagger')\n",
    "nltk.download('punkt')\n",
    "from nltk.corpus import stopwords\n",
    "from nltk.tag import PerceptronTagger\n",
    "from nltk.data import find\n",
    "from tqdm import tqdm\n",
    "import itertools"
   ]
  },
  {
   "cell_type": "code",
   "execution_count": 2,
   "metadata": {},
   "outputs": [],
   "source": [
    "df = pd.read_json('data/baby/Baby_5.json', lines=True)"
   ]
  },
  {
   "cell_type": "code",
   "execution_count": 3,
   "metadata": {},
   "outputs": [
    {
     "data": {
      "text/html": [
       "<div>\n",
       "<style scoped>\n",
       "    .dataframe tbody tr th:only-of-type {\n",
       "        vertical-align: middle;\n",
       "    }\n",
       "\n",
       "    .dataframe tbody tr th {\n",
       "        vertical-align: top;\n",
       "    }\n",
       "\n",
       "    .dataframe thead th {\n",
       "        text-align: right;\n",
       "    }\n",
       "</style>\n",
       "<table border=\"1\" class=\"dataframe\">\n",
       "  <thead>\n",
       "    <tr style=\"text-align: right;\">\n",
       "      <th></th>\n",
       "      <th>asin</th>\n",
       "      <th>helpful</th>\n",
       "      <th>overall</th>\n",
       "      <th>reviewText</th>\n",
       "      <th>reviewTime</th>\n",
       "      <th>reviewerID</th>\n",
       "      <th>reviewerName</th>\n",
       "      <th>summary</th>\n",
       "      <th>unixReviewTime</th>\n",
       "    </tr>\n",
       "  </thead>\n",
       "  <tbody>\n",
       "    <tr>\n",
       "      <th>0</th>\n",
       "      <td>097293751X</td>\n",
       "      <td>[0, 0]</td>\n",
       "      <td>5</td>\n",
       "      <td>Perfect for new parents. We were able to keep ...</td>\n",
       "      <td>07 16, 2013</td>\n",
       "      <td>A1HK2FQW6KXQB2</td>\n",
       "      <td>Amanda Johnsen \"Amanda E. Johnsen\"</td>\n",
       "      <td>Awesine</td>\n",
       "      <td>1373932800</td>\n",
       "    </tr>\n",
       "    <tr>\n",
       "      <th>1</th>\n",
       "      <td>097293751X</td>\n",
       "      <td>[0, 0]</td>\n",
       "      <td>5</td>\n",
       "      <td>This book is such a life saver.  It has been s...</td>\n",
       "      <td>06 29, 2013</td>\n",
       "      <td>A19K65VY14D13R</td>\n",
       "      <td>angela</td>\n",
       "      <td>Should be required for all new parents!</td>\n",
       "      <td>1372464000</td>\n",
       "    </tr>\n",
       "    <tr>\n",
       "      <th>2</th>\n",
       "      <td>097293751X</td>\n",
       "      <td>[0, 0]</td>\n",
       "      <td>5</td>\n",
       "      <td>Helps me know exactly how my babies day has go...</td>\n",
       "      <td>03 19, 2014</td>\n",
       "      <td>A2LL1TGG90977E</td>\n",
       "      <td>Carter</td>\n",
       "      <td>Grandmother watching baby</td>\n",
       "      <td>1395187200</td>\n",
       "    </tr>\n",
       "    <tr>\n",
       "      <th>3</th>\n",
       "      <td>097293751X</td>\n",
       "      <td>[0, 0]</td>\n",
       "      <td>5</td>\n",
       "      <td>I bought this a few times for my older son and...</td>\n",
       "      <td>08 17, 2013</td>\n",
       "      <td>A5G19RYX8599E</td>\n",
       "      <td>cfpurplerose</td>\n",
       "      <td>repeat buyer</td>\n",
       "      <td>1376697600</td>\n",
       "    </tr>\n",
       "    <tr>\n",
       "      <th>4</th>\n",
       "      <td>097293751X</td>\n",
       "      <td>[0, 0]</td>\n",
       "      <td>4</td>\n",
       "      <td>I wanted an alternative to printing out daily ...</td>\n",
       "      <td>04 1, 2014</td>\n",
       "      <td>A2496A4EWMLQ7</td>\n",
       "      <td>C. Jeter</td>\n",
       "      <td>Great</td>\n",
       "      <td>1396310400</td>\n",
       "    </tr>\n",
       "  </tbody>\n",
       "</table>\n",
       "</div>"
      ],
      "text/plain": [
       "         asin helpful  overall  \\\n",
       "0  097293751X  [0, 0]        5   \n",
       "1  097293751X  [0, 0]        5   \n",
       "2  097293751X  [0, 0]        5   \n",
       "3  097293751X  [0, 0]        5   \n",
       "4  097293751X  [0, 0]        4   \n",
       "\n",
       "                                          reviewText   reviewTime  \\\n",
       "0  Perfect for new parents. We were able to keep ...  07 16, 2013   \n",
       "1  This book is such a life saver.  It has been s...  06 29, 2013   \n",
       "2  Helps me know exactly how my babies day has go...  03 19, 2014   \n",
       "3  I bought this a few times for my older son and...  08 17, 2013   \n",
       "4  I wanted an alternative to printing out daily ...   04 1, 2014   \n",
       "\n",
       "       reviewerID                        reviewerName  \\\n",
       "0  A1HK2FQW6KXQB2  Amanda Johnsen \"Amanda E. Johnsen\"   \n",
       "1  A19K65VY14D13R                              angela   \n",
       "2  A2LL1TGG90977E                              Carter   \n",
       "3   A5G19RYX8599E                        cfpurplerose   \n",
       "4   A2496A4EWMLQ7                            C. Jeter   \n",
       "\n",
       "                                   summary  unixReviewTime  \n",
       "0                                  Awesine      1373932800  \n",
       "1  Should be required for all new parents!      1372464000  \n",
       "2                Grandmother watching baby      1395187200  \n",
       "3                             repeat buyer      1376697600  \n",
       "4                                    Great      1396310400  "
      ]
     },
     "execution_count": 3,
     "metadata": {},
     "output_type": "execute_result"
    }
   ],
   "source": [
    "df.head()"
   ]
  },
  {
   "cell_type": "code",
   "execution_count": 4,
   "metadata": {},
   "outputs": [],
   "source": [
    "df = df.drop(['reviewTime','helpful','reviewerName','summary'], axis=1)\n",
    "df['reviewText'] = df['reviewText'].apply(lambda x: x.lower())"
   ]
  },
  {
   "cell_type": "code",
   "execution_count": 5,
   "metadata": {},
   "outputs": [
    {
     "data": {
      "text/html": [
       "<div>\n",
       "<style scoped>\n",
       "    .dataframe tbody tr th:only-of-type {\n",
       "        vertical-align: middle;\n",
       "    }\n",
       "\n",
       "    .dataframe tbody tr th {\n",
       "        vertical-align: top;\n",
       "    }\n",
       "\n",
       "    .dataframe thead th {\n",
       "        text-align: right;\n",
       "    }\n",
       "</style>\n",
       "<table border=\"1\" class=\"dataframe\">\n",
       "  <thead>\n",
       "    <tr style=\"text-align: right;\">\n",
       "      <th></th>\n",
       "      <th>asin</th>\n",
       "      <th>overall</th>\n",
       "      <th>reviewText</th>\n",
       "      <th>reviewerID</th>\n",
       "      <th>unixReviewTime</th>\n",
       "    </tr>\n",
       "  </thead>\n",
       "  <tbody>\n",
       "    <tr>\n",
       "      <th>0</th>\n",
       "      <td>097293751X</td>\n",
       "      <td>5</td>\n",
       "      <td>perfect for new parents. we were able to keep ...</td>\n",
       "      <td>A1HK2FQW6KXQB2</td>\n",
       "      <td>1373932800</td>\n",
       "    </tr>\n",
       "    <tr>\n",
       "      <th>1</th>\n",
       "      <td>097293751X</td>\n",
       "      <td>5</td>\n",
       "      <td>this book is such a life saver.  it has been s...</td>\n",
       "      <td>A19K65VY14D13R</td>\n",
       "      <td>1372464000</td>\n",
       "    </tr>\n",
       "    <tr>\n",
       "      <th>2</th>\n",
       "      <td>097293751X</td>\n",
       "      <td>5</td>\n",
       "      <td>helps me know exactly how my babies day has go...</td>\n",
       "      <td>A2LL1TGG90977E</td>\n",
       "      <td>1395187200</td>\n",
       "    </tr>\n",
       "    <tr>\n",
       "      <th>3</th>\n",
       "      <td>097293751X</td>\n",
       "      <td>5</td>\n",
       "      <td>i bought this a few times for my older son and...</td>\n",
       "      <td>A5G19RYX8599E</td>\n",
       "      <td>1376697600</td>\n",
       "    </tr>\n",
       "    <tr>\n",
       "      <th>4</th>\n",
       "      <td>097293751X</td>\n",
       "      <td>4</td>\n",
       "      <td>i wanted an alternative to printing out daily ...</td>\n",
       "      <td>A2496A4EWMLQ7</td>\n",
       "      <td>1396310400</td>\n",
       "    </tr>\n",
       "  </tbody>\n",
       "</table>\n",
       "</div>"
      ],
      "text/plain": [
       "         asin  overall                                         reviewText  \\\n",
       "0  097293751X        5  perfect for new parents. we were able to keep ...   \n",
       "1  097293751X        5  this book is such a life saver.  it has been s...   \n",
       "2  097293751X        5  helps me know exactly how my babies day has go...   \n",
       "3  097293751X        5  i bought this a few times for my older son and...   \n",
       "4  097293751X        4  i wanted an alternative to printing out daily ...   \n",
       "\n",
       "       reviewerID  unixReviewTime  \n",
       "0  A1HK2FQW6KXQB2      1373932800  \n",
       "1  A19K65VY14D13R      1372464000  \n",
       "2  A2LL1TGG90977E      1395187200  \n",
       "3   A5G19RYX8599E      1376697600  \n",
       "4   A2496A4EWMLQ7      1396310400  "
      ]
     },
     "execution_count": 5,
     "metadata": {},
     "output_type": "execute_result"
    }
   ],
   "source": [
    "df.head()"
   ]
  },
  {
   "cell_type": "code",
   "execution_count": 6,
   "metadata": {},
   "outputs": [],
   "source": [
    "stop_words = stopwords.words('english')"
   ]
  },
  {
   "cell_type": "code",
   "execution_count": 7,
   "metadata": {},
   "outputs": [],
   "source": [
    "#df['tmp'] = df['reviewText'].apply(lambda x: [item for item in x.lower().split() if item not in stop_words]+[' '])\n",
    "df['tmp'] = df['reviewText'].apply(lambda x: nltk.word_tokenize(x)+[' '])"
   ]
  },
  {
   "cell_type": "code",
   "execution_count": 8,
   "metadata": {},
   "outputs": [],
   "source": [
    "clean = df['tmp'].tolist()"
   ]
  },
  {
   "cell_type": "code",
   "execution_count": 9,
   "metadata": {},
   "outputs": [
    {
     "data": {
      "text/plain": [
       "'/usr/bin/python'"
      ]
     },
     "execution_count": 9,
     "metadata": {},
     "output_type": "execute_result"
    }
   ],
   "source": [
    "import sys\n",
    "sys.executable"
   ]
  },
  {
   "cell_type": "code",
   "execution_count": 10,
   "metadata": {},
   "outputs": [
    {
     "name": "stderr",
     "output_type": "stream",
     "text": [
      "Using TensorFlow backend.\n"
     ]
    }
   ],
   "source": [
    "from keras.preprocessing.text import one_hot\n",
    "from keras.preprocessing.text import text_to_word_sequence\n",
    "from keras.preprocessing.text import Tokenizer"
   ]
  },
  {
   "cell_type": "code",
   "execution_count": 11,
   "metadata": {},
   "outputs": [],
   "source": [
    "text = df['reviewText'].tolist()"
   ]
  },
  {
   "cell_type": "code",
   "execution_count": 12,
   "metadata": {},
   "outputs": [],
   "source": [
    "t = Tokenizer()\n",
    "t.fit_on_texts(text)"
   ]
  },
  {
   "cell_type": "code",
   "execution_count": 13,
   "metadata": {},
   "outputs": [
    {
     "name": "stdout",
     "output_type": "stream",
     "text": [
      "67994\n"
     ]
    }
   ],
   "source": [
    "print(len(t.word_counts))"
   ]
  },
  {
   "cell_type": "code",
   "execution_count": 14,
   "metadata": {},
   "outputs": [],
   "source": [
    "df['vector'] = t.texts_to_sequences(text)"
   ]
  },
  {
   "cell_type": "code",
   "execution_count": 15,
   "metadata": {},
   "outputs": [
    {
     "data": {
      "text/html": [
       "<div>\n",
       "<style scoped>\n",
       "    .dataframe tbody tr th:only-of-type {\n",
       "        vertical-align: middle;\n",
       "    }\n",
       "\n",
       "    .dataframe tbody tr th {\n",
       "        vertical-align: top;\n",
       "    }\n",
       "\n",
       "    .dataframe thead th {\n",
       "        text-align: right;\n",
       "    }\n",
       "</style>\n",
       "<table border=\"1\" class=\"dataframe\">\n",
       "  <thead>\n",
       "    <tr style=\"text-align: right;\">\n",
       "      <th></th>\n",
       "      <th>asin</th>\n",
       "      <th>overall</th>\n",
       "      <th>reviewText</th>\n",
       "      <th>reviewerID</th>\n",
       "      <th>unixReviewTime</th>\n",
       "      <th>tmp</th>\n",
       "      <th>vector</th>\n",
       "    </tr>\n",
       "  </thead>\n",
       "  <tbody>\n",
       "    <tr>\n",
       "      <th>0</th>\n",
       "      <td>097293751X</td>\n",
       "      <td>5</td>\n",
       "      <td>perfect for new parents. we were able to keep ...</td>\n",
       "      <td>A1HK2FQW6KXQB2</td>\n",
       "      <td>1373932800</td>\n",
       "      <td>[perfect, for, new, parents, ., we, were, able...</td>\n",
       "      <td>[152, 9, 204, 586, 19, 106, 185, 3, 127, 1924,...</td>\n",
       "    </tr>\n",
       "    <tr>\n",
       "      <th>1</th>\n",
       "      <td>097293751X</td>\n",
       "      <td>5</td>\n",
       "      <td>this book is such a life saver.  it has been s...</td>\n",
       "      <td>A19K65VY14D13R</td>\n",
       "      <td>1372464000</td>\n",
       "      <td>[this, book, is, such, a, life, saver, ., it, ...</td>\n",
       "      <td>[8, 834, 7, 451, 6, 572, 1189, 5, 50, 111, 18,...</td>\n",
       "    </tr>\n",
       "    <tr>\n",
       "      <th>2</th>\n",
       "      <td>097293751X</td>\n",
       "      <td>5</td>\n",
       "      <td>helps me know exactly how my babies day has go...</td>\n",
       "      <td>A2LL1TGG90977E</td>\n",
       "      <td>1395187200</td>\n",
       "      <td>[helps, me, know, exactly, how, my, babies, da...</td>\n",
       "      <td>[539, 80, 205, 619, 119, 12, 233, 212, 50, 118...</td>\n",
       "    </tr>\n",
       "    <tr>\n",
       "      <th>3</th>\n",
       "      <td>097293751X</td>\n",
       "      <td>5</td>\n",
       "      <td>i bought this a few times for my older son and...</td>\n",
       "      <td>A5G19RYX8599E</td>\n",
       "      <td>1376697600</td>\n",
       "      <td>[i, bought, this, a, few, times, for, my, olde...</td>\n",
       "      <td>[4, 87, 8, 6, 157, 243, 9, 12, 352, 75, 2, 17,...</td>\n",
       "    </tr>\n",
       "    <tr>\n",
       "      <th>4</th>\n",
       "      <td>097293751X</td>\n",
       "      <td>4</td>\n",
       "      <td>i wanted an alternative to printing out daily ...</td>\n",
       "      <td>A2496A4EWMLQ7</td>\n",
       "      <td>1396310400</td>\n",
       "      <td>[i, wanted, an, alternative, to, printing, out...</td>\n",
       "      <td>[4, 284, 85, 1524, 3, 7983, 39, 919, 7886, 612...</td>\n",
       "    </tr>\n",
       "  </tbody>\n",
       "</table>\n",
       "</div>"
      ],
      "text/plain": [
       "         asin  overall                                         reviewText  \\\n",
       "0  097293751X        5  perfect for new parents. we were able to keep ...   \n",
       "1  097293751X        5  this book is such a life saver.  it has been s...   \n",
       "2  097293751X        5  helps me know exactly how my babies day has go...   \n",
       "3  097293751X        5  i bought this a few times for my older son and...   \n",
       "4  097293751X        4  i wanted an alternative to printing out daily ...   \n",
       "\n",
       "       reviewerID  unixReviewTime  \\\n",
       "0  A1HK2FQW6KXQB2      1373932800   \n",
       "1  A19K65VY14D13R      1372464000   \n",
       "2  A2LL1TGG90977E      1395187200   \n",
       "3   A5G19RYX8599E      1376697600   \n",
       "4   A2496A4EWMLQ7      1396310400   \n",
       "\n",
       "                                                 tmp  \\\n",
       "0  [perfect, for, new, parents, ., we, were, able...   \n",
       "1  [this, book, is, such, a, life, saver, ., it, ...   \n",
       "2  [helps, me, know, exactly, how, my, babies, da...   \n",
       "3  [i, bought, this, a, few, times, for, my, olde...   \n",
       "4  [i, wanted, an, alternative, to, printing, out...   \n",
       "\n",
       "                                              vector  \n",
       "0  [152, 9, 204, 586, 19, 106, 185, 3, 127, 1924,...  \n",
       "1  [8, 834, 7, 451, 6, 572, 1189, 5, 50, 111, 18,...  \n",
       "2  [539, 80, 205, 619, 119, 12, 233, 212, 50, 118...  \n",
       "3  [4, 87, 8, 6, 157, 243, 9, 12, 352, 75, 2, 17,...  \n",
       "4  [4, 284, 85, 1524, 3, 7983, 39, 919, 7886, 612...  "
      ]
     },
     "execution_count": 15,
     "metadata": {},
     "output_type": "execute_result"
    }
   ],
   "source": [
    "df.head()"
   ]
  },
  {
   "cell_type": "code",
   "execution_count": 16,
   "metadata": {},
   "outputs": [],
   "source": [
    "reverse_word_map = dict(map(reversed, t.word_index.items()))"
   ]
  },
  {
   "cell_type": "code",
   "execution_count": 17,
   "metadata": {},
   "outputs": [
    {
     "data": {
      "text/plain": [
       "u'is'"
      ]
     },
     "execution_count": 17,
     "metadata": {},
     "output_type": "execute_result"
    }
   ],
   "source": [
    "reverse_word_map[7]"
   ]
  },
  {
   "cell_type": "code",
   "execution_count": 18,
   "metadata": {},
   "outputs": [],
   "source": [
    "import nltk\n",
    "\n",
    "clean=itertools.chain.from_iterable(clean)\n",
    "\n",
    "bigrams = nltk.collocations.BigramAssocMeasures()\n",
    "trigrams = nltk.collocations.TrigramAssocMeasures()\n",
    "\n",
    "bigramFinder = nltk.collocations.BigramCollocationFinder.from_words(clean)\n",
    "trigramFinder = nltk.collocations.TrigramCollocationFinder.from_words(clean)"
   ]
  },
  {
   "cell_type": "code",
   "execution_count": 19,
   "metadata": {},
   "outputs": [],
   "source": [
    "#bigrams\n",
    "bigram_freq = bigramFinder.ngram_fd.items()\n",
    "bigramFreqTable = pd.DataFrame(list(bigram_freq), columns=['bigram','freq']).sort_values(by='freq', ascending=False)\n",
    "\n",
    "#trigrams\n",
    "trigram_freq = trigramFinder.ngram_fd.items()\n",
    "trigramFreqTable = pd.DataFrame(list(trigram_freq), columns=['trigram','freq']).sort_values(by='freq', ascending=False)"
   ]
  },
  {
   "cell_type": "code",
   "execution_count": 20,
   "metadata": {},
   "outputs": [],
   "source": [
    "#get english stopwords\n",
    "en_stopwords = set(stopwords.words('english'))\n",
    "\n",
    "#function to filter for ADJ/NN bigrams\n",
    "def rightTypes(ngram):\n",
    "    if '-pron-' in ngram or 't' in ngram:\n",
    "        return False\n",
    "    for word in ngram:\n",
    "        if word in en_stopwords or word.isspace():\n",
    "            return False\n",
    "    acceptable_types = ('JJ', 'JJR', 'JJS', 'NN', 'NNS', 'NNP', 'NNPS')\n",
    "    second_type = ('NN', 'NNS', 'NNP', 'NNPS')\n",
    "    tags = nltk.pos_tag(ngram)\n",
    "    if tags[0][1] in acceptable_types and tags[1][1] in second_type:\n",
    "        return True\n",
    "    else:\n",
    "        return False\n",
    "\n",
    "#filter bigrams\n",
    "filtered_bi = bigramFreqTable[bigramFreqTable.bigram.map(lambda x: rightTypes(x))]"
   ]
  },
  {
   "cell_type": "code",
   "execution_count": 21,
   "metadata": {},
   "outputs": [
    {
     "data": {
      "text/html": [
       "<div>\n",
       "<style scoped>\n",
       "    .dataframe tbody tr th:only-of-type {\n",
       "        vertical-align: middle;\n",
       "    }\n",
       "\n",
       "    .dataframe tbody tr th {\n",
       "        vertical-align: top;\n",
       "    }\n",
       "\n",
       "    .dataframe thead th {\n",
       "        text-align: right;\n",
       "    }\n",
       "</style>\n",
       "<table border=\"1\" class=\"dataframe\">\n",
       "  <thead>\n",
       "    <tr style=\"text-align: right;\">\n",
       "      <th></th>\n",
       "      <th>bigram</th>\n",
       "      <th>freq</th>\n",
       "    </tr>\n",
       "  </thead>\n",
       "  <tbody>\n",
       "    <tr>\n",
       "      <th>1486170</th>\n",
       "      <td>(car, seat)</td>\n",
       "      <td>11409</td>\n",
       "    </tr>\n",
       "    <tr>\n",
       "      <th>278604</th>\n",
       "      <td>(diaper, bag)</td>\n",
       "      <td>5887</td>\n",
       "    </tr>\n",
       "    <tr>\n",
       "      <th>1531740</th>\n",
       "      <td>(high, chair)</td>\n",
       "      <td>3080</td>\n",
       "    </tr>\n",
       "    <tr>\n",
       "      <th>492778</th>\n",
       "      <td>(great, product)</td>\n",
       "      <td>2725</td>\n",
       "    </tr>\n",
       "    <tr>\n",
       "      <th>473409</th>\n",
       "      <td>(son, loves)</td>\n",
       "      <td>2479</td>\n",
       "    </tr>\n",
       "    <tr>\n",
       "      <th>633333</th>\n",
       "      <td>(first, time)</td>\n",
       "      <td>2354</td>\n",
       "    </tr>\n",
       "    <tr>\n",
       "      <th>159016</th>\n",
       "      <td>(sippy, cup)</td>\n",
       "      <td>2084</td>\n",
       "    </tr>\n",
       "    <tr>\n",
       "      <th>1064109</th>\n",
       "      <td>(daughter, loves)</td>\n",
       "      <td>2072</td>\n",
       "    </tr>\n",
       "    <tr>\n",
       "      <th>964864</th>\n",
       "      <td>(baby, loves)</td>\n",
       "      <td>2017</td>\n",
       "    </tr>\n",
       "    <tr>\n",
       "      <th>461816</th>\n",
       "      <td>(sippy, cups)</td>\n",
       "      <td>1968</td>\n",
       "    </tr>\n",
       "    <tr>\n",
       "      <th>1359139</th>\n",
       "      <td>(cloth, diapers)</td>\n",
       "      <td>1949</td>\n",
       "    </tr>\n",
       "    <tr>\n",
       "      <th>267304</th>\n",
       "      <td>(old, son)</td>\n",
       "      <td>1936</td>\n",
       "    </tr>\n",
       "    <tr>\n",
       "      <th>357065</th>\n",
       "      <td>(good, quality)</td>\n",
       "      <td>1920</td>\n",
       "    </tr>\n",
       "    <tr>\n",
       "      <th>362757</th>\n",
       "      <td>(little, bit)</td>\n",
       "      <td>1822</td>\n",
       "    </tr>\n",
       "    <tr>\n",
       "      <th>136838</th>\n",
       "      <td>(baby, food)</td>\n",
       "      <td>1770</td>\n",
       "    </tr>\n",
       "    <tr>\n",
       "      <th>991357</th>\n",
       "      <td>(long, time)</td>\n",
       "      <td>1761</td>\n",
       "    </tr>\n",
       "    <tr>\n",
       "      <th>406027</th>\n",
       "      <td>(super, easy)</td>\n",
       "      <td>1738</td>\n",
       "    </tr>\n",
       "    <tr>\n",
       "      <th>1171940</th>\n",
       "      <td>(n, play)</td>\n",
       "      <td>1715</td>\n",
       "    </tr>\n",
       "    <tr>\n",
       "      <th>545601</th>\n",
       "      <td>(little, guy)</td>\n",
       "      <td>1702</td>\n",
       "    </tr>\n",
       "    <tr>\n",
       "      <th>937632</th>\n",
       "      <td>(car, seats)</td>\n",
       "      <td>1691</td>\n",
       "    </tr>\n",
       "    <tr>\n",
       "      <th>271682</th>\n",
       "      <td>(perfect, size)</td>\n",
       "      <td>1680</td>\n",
       "    </tr>\n",
       "    <tr>\n",
       "      <th>134194</th>\n",
       "      <td>(baby, shower)</td>\n",
       "      <td>1574</td>\n",
       "    </tr>\n",
       "    <tr>\n",
       "      <th>1367336</th>\n",
       "      <td>(old, daughter)</td>\n",
       "      <td>1509</td>\n",
       "    </tr>\n",
       "    <tr>\n",
       "      <th>32521</th>\n",
       "      <td>(pack, n)</td>\n",
       "      <td>1432</td>\n",
       "    </tr>\n",
       "    <tr>\n",
       "      <th>1237784</th>\n",
       "      <td>(cup, holder)</td>\n",
       "      <td>1397</td>\n",
       "    </tr>\n",
       "    <tr>\n",
       "      <th>650163</th>\n",
       "      <td>(customer, service)</td>\n",
       "      <td>1323</td>\n",
       "    </tr>\n",
       "    <tr>\n",
       "      <th>78095</th>\n",
       "      <td>(big, deal)</td>\n",
       "      <td>1257</td>\n",
       "    </tr>\n",
       "    <tr>\n",
       "      <th>1079994</th>\n",
       "      <td>(fisher, price)</td>\n",
       "      <td>1224</td>\n",
       "    </tr>\n",
       "    <tr>\n",
       "      <th>1163472</th>\n",
       "      <td>(little, ones)</td>\n",
       "      <td>1135</td>\n",
       "    </tr>\n",
       "    <tr>\n",
       "      <th>972521</th>\n",
       "      <td>(tummy, time)</td>\n",
       "      <td>1135</td>\n",
       "    </tr>\n",
       "  </tbody>\n",
       "</table>\n",
       "</div>"
      ],
      "text/plain": [
       "                      bigram   freq\n",
       "1486170          (car, seat)  11409\n",
       "278604         (diaper, bag)   5887\n",
       "1531740        (high, chair)   3080\n",
       "492778      (great, product)   2725\n",
       "473409          (son, loves)   2479\n",
       "633333         (first, time)   2354\n",
       "159016          (sippy, cup)   2084\n",
       "1064109    (daughter, loves)   2072\n",
       "964864         (baby, loves)   2017\n",
       "461816         (sippy, cups)   1968\n",
       "1359139     (cloth, diapers)   1949\n",
       "267304            (old, son)   1936\n",
       "357065       (good, quality)   1920\n",
       "362757         (little, bit)   1822\n",
       "136838          (baby, food)   1770\n",
       "991357          (long, time)   1761\n",
       "406027         (super, easy)   1738\n",
       "1171940            (n, play)   1715\n",
       "545601         (little, guy)   1702\n",
       "937632          (car, seats)   1691\n",
       "271682       (perfect, size)   1680\n",
       "134194        (baby, shower)   1574\n",
       "1367336      (old, daughter)   1509\n",
       "32521              (pack, n)   1432\n",
       "1237784        (cup, holder)   1397\n",
       "650163   (customer, service)   1323\n",
       "78095            (big, deal)   1257\n",
       "1079994      (fisher, price)   1224\n",
       "1163472       (little, ones)   1135\n",
       "972521         (tummy, time)   1135"
      ]
     },
     "execution_count": 21,
     "metadata": {},
     "output_type": "execute_result"
    }
   ],
   "source": [
    "filtered_bi.head(30)"
   ]
  },
  {
   "cell_type": "code",
   "execution_count": 22,
   "metadata": {},
   "outputs": [],
   "source": [
    "#filter for only those with more than 20 occurences\n",
    "bigramFinder.apply_freq_filter(20)\n",
    "trigramFinder.apply_freq_filter(20)\n",
    "\n",
    "bigramPMITable = pd.DataFrame(list(bigramFinder.score_ngrams(bigrams.pmi)), columns=['bigram','PMI']).sort_values(by='PMI', ascending=False)"
   ]
  },
  {
   "cell_type": "code",
   "execution_count": 23,
   "metadata": {
    "scrolled": true
   },
   "outputs": [
    {
     "data": {
      "text/html": [
       "<div>\n",
       "<style scoped>\n",
       "    .dataframe tbody tr th:only-of-type {\n",
       "        vertical-align: middle;\n",
       "    }\n",
       "\n",
       "    .dataframe tbody tr th {\n",
       "        vertical-align: top;\n",
       "    }\n",
       "\n",
       "    .dataframe thead th {\n",
       "        text-align: right;\n",
       "    }\n",
       "</style>\n",
       "<table border=\"1\" class=\"dataframe\">\n",
       "  <thead>\n",
       "    <tr style=\"text-align: right;\">\n",
       "      <th></th>\n",
       "      <th>bigram</th>\n",
       "      <th>PMI</th>\n",
       "    </tr>\n",
       "  </thead>\n",
       "  <tbody>\n",
       "    <tr>\n",
       "      <th>0</th>\n",
       "      <td>(jenny, lind)</td>\n",
       "      <td>19.256318</td>\n",
       "    </tr>\n",
       "    <tr>\n",
       "      <th>1</th>\n",
       "      <td>(alpha, omega)</td>\n",
       "      <td>19.003268</td>\n",
       "    </tr>\n",
       "    <tr>\n",
       "      <th>2</th>\n",
       "      <td>(vera, bradley)</td>\n",
       "      <td>18.966812</td>\n",
       "    </tr>\n",
       "    <tr>\n",
       "      <th>3</th>\n",
       "      <td>(walkie, talkie)</td>\n",
       "      <td>18.966812</td>\n",
       "    </tr>\n",
       "    <tr>\n",
       "      <th>4</th>\n",
       "      <td>(da, vinci)</td>\n",
       "      <td>18.721982</td>\n",
       "    </tr>\n",
       "    <tr>\n",
       "      <th>5</th>\n",
       "      <td>(wal, mart)</td>\n",
       "      <td>18.688035</td>\n",
       "    </tr>\n",
       "    <tr>\n",
       "      <th>6</th>\n",
       "      <td>(au, lait)</td>\n",
       "      <td>18.559711</td>\n",
       "    </tr>\n",
       "    <tr>\n",
       "      <th>7</th>\n",
       "      <td>(jl, childress)</td>\n",
       "      <td>18.438734</td>\n",
       "    </tr>\n",
       "    <tr>\n",
       "      <th>8</th>\n",
       "      <td>(san, francisco)</td>\n",
       "      <td>18.413860</td>\n",
       "    </tr>\n",
       "    <tr>\n",
       "      <th>9</th>\n",
       "      <td>(itzy, ritzy)</td>\n",
       "      <td>18.306944</td>\n",
       "    </tr>\n",
       "    <tr>\n",
       "      <th>10</th>\n",
       "      <td>(witch, hazel)</td>\n",
       "      <td>18.273904</td>\n",
       "    </tr>\n",
       "    <tr>\n",
       "      <th>11</th>\n",
       "      <td>(bloody, murder)</td>\n",
       "      <td>18.141820</td>\n",
       "    </tr>\n",
       "    <tr>\n",
       "      <th>12</th>\n",
       "      <td>(itty, bitty)</td>\n",
       "      <td>18.138547</td>\n",
       "    </tr>\n",
       "    <tr>\n",
       "      <th>13</th>\n",
       "      <td>(santa, fe)</td>\n",
       "      <td>18.037484</td>\n",
       "    </tr>\n",
       "    <tr>\n",
       "      <th>14</th>\n",
       "      <td>(summit, xc)</td>\n",
       "      <td>17.905659</td>\n",
       "    </tr>\n",
       "    <tr>\n",
       "      <th>15</th>\n",
       "      <td>(imse, vimse)</td>\n",
       "      <td>17.896207</td>\n",
       "    </tr>\n",
       "    <tr>\n",
       "      <th>16</th>\n",
       "      <td>(carpal, tunnel)</td>\n",
       "      <td>17.882974</td>\n",
       "    </tr>\n",
       "    <tr>\n",
       "      <th>17</th>\n",
       "      <td>(klean, kanteen)</td>\n",
       "      <td>17.868271</td>\n",
       "    </tr>\n",
       "    <tr>\n",
       "      <th>18</th>\n",
       "      <td>(2.4, ghz)</td>\n",
       "      <td>17.818844</td>\n",
       "    </tr>\n",
       "    <tr>\n",
       "      <th>19</th>\n",
       "      <td>(tots, bots)</td>\n",
       "      <td>17.767786</td>\n",
       "    </tr>\n",
       "    <tr>\n",
       "      <th>20</th>\n",
       "      <td>(petunia, pickle)</td>\n",
       "      <td>17.747338</td>\n",
       "    </tr>\n",
       "    <tr>\n",
       "      <th>21</th>\n",
       "      <td>(quattro, tour)</td>\n",
       "      <td>17.721982</td>\n",
       "    </tr>\n",
       "    <tr>\n",
       "      <th>22</th>\n",
       "      <td>(love/hate, relationship)</td>\n",
       "      <td>17.702082</td>\n",
       "    </tr>\n",
       "    <tr>\n",
       "      <th>23</th>\n",
       "      <td>(butternut, squash)</td>\n",
       "      <td>17.683847</td>\n",
       "    </tr>\n",
       "    <tr>\n",
       "      <th>24</th>\n",
       "      <td>(stork, craft)</td>\n",
       "      <td>17.490467</td>\n",
       "    </tr>\n",
       "    <tr>\n",
       "      <th>25</th>\n",
       "      <td>(pura, kiki)</td>\n",
       "      <td>17.441874</td>\n",
       "    </tr>\n",
       "    <tr>\n",
       "      <th>26</th>\n",
       "      <td>(allen, wrench)</td>\n",
       "      <td>17.398528</td>\n",
       "    </tr>\n",
       "    <tr>\n",
       "      <th>27</th>\n",
       "      <td>(captain, calamari)</td>\n",
       "      <td>17.391337</td>\n",
       "    </tr>\n",
       "    <tr>\n",
       "      <th>28</th>\n",
       "      <td>(tripp, trapp)</td>\n",
       "      <td>17.382373</td>\n",
       "    </tr>\n",
       "    <tr>\n",
       "      <th>29</th>\n",
       "      <td>(techno, xt)</td>\n",
       "      <td>17.115709</td>\n",
       "    </tr>\n",
       "  </tbody>\n",
       "</table>\n",
       "</div>"
      ],
      "text/plain": [
       "                       bigram        PMI\n",
       "0               (jenny, lind)  19.256318\n",
       "1              (alpha, omega)  19.003268\n",
       "2             (vera, bradley)  18.966812\n",
       "3            (walkie, talkie)  18.966812\n",
       "4                 (da, vinci)  18.721982\n",
       "5                 (wal, mart)  18.688035\n",
       "6                  (au, lait)  18.559711\n",
       "7             (jl, childress)  18.438734\n",
       "8            (san, francisco)  18.413860\n",
       "9               (itzy, ritzy)  18.306944\n",
       "10             (witch, hazel)  18.273904\n",
       "11           (bloody, murder)  18.141820\n",
       "12              (itty, bitty)  18.138547\n",
       "13                (santa, fe)  18.037484\n",
       "14               (summit, xc)  17.905659\n",
       "15              (imse, vimse)  17.896207\n",
       "16           (carpal, tunnel)  17.882974\n",
       "17           (klean, kanteen)  17.868271\n",
       "18                 (2.4, ghz)  17.818844\n",
       "19               (tots, bots)  17.767786\n",
       "20          (petunia, pickle)  17.747338\n",
       "21            (quattro, tour)  17.721982\n",
       "22  (love/hate, relationship)  17.702082\n",
       "23        (butternut, squash)  17.683847\n",
       "24             (stork, craft)  17.490467\n",
       "25               (pura, kiki)  17.441874\n",
       "26            (allen, wrench)  17.398528\n",
       "27        (captain, calamari)  17.391337\n",
       "28             (tripp, trapp)  17.382373\n",
       "29               (techno, xt)  17.115709"
      ]
     },
     "execution_count": 23,
     "metadata": {},
     "output_type": "execute_result"
    }
   ],
   "source": [
    "bigramPMITable.head(30)"
   ]
  },
  {
   "cell_type": "code",
   "execution_count": 24,
   "metadata": {},
   "outputs": [],
   "source": [
    "bigramPMITable['Phrases'] = bigramPMITable['bigram'].apply(lambda x: ' '.join(x))"
   ]
  },
  {
   "cell_type": "code",
   "execution_count": 25,
   "metadata": {},
   "outputs": [],
   "source": [
    "bigramPMITable = bigramPMITable.drop(['bigram'], axis=1)"
   ]
  },
  {
   "cell_type": "code",
   "execution_count": 26,
   "metadata": {},
   "outputs": [],
   "source": [
    "keyphrases = bigramPMITable['Phrases'].tolist()[:100]"
   ]
  },
  {
   "cell_type": "code",
   "execution_count": 37,
   "metadata": {},
   "outputs": [],
   "source": [
    "df['keyVector'] = df['reviewText'].apply(lambda x: [1. if key in x else 0 for key in keyphrases])"
   ]
  },
  {
   "cell_type": "code",
   "execution_count": 41,
   "metadata": {},
   "outputs": [],
   "source": [
    "import numpy as np\n",
    "x = np.matrix(df['keyVector'].tolist())"
   ]
  },
  {
   "cell_type": "code",
   "execution_count": 43,
   "metadata": {},
   "outputs": [
    {
     "data": {
      "text/plain": [
       "4376"
      ]
     },
     "execution_count": 43,
     "metadata": {},
     "output_type": "execute_result"
    }
   ],
   "source": [
    "len(x.nonzero()[0])"
   ]
  },
  {
   "cell_type": "code",
   "execution_count": 44,
   "metadata": {},
   "outputs": [
    {
     "data": {
      "text/plain": [
       "(160792, 100)"
      ]
     },
     "execution_count": 44,
     "metadata": {},
     "output_type": "execute_result"
    }
   ],
   "source": [
    "x.shape"
   ]
  },
  {
   "cell_type": "code",
   "execution_count": 46,
   "metadata": {},
   "outputs": [
    {
     "data": {
      "text/plain": [
       "0.00027190407482959353"
      ]
     },
     "execution_count": 46,
     "metadata": {},
     "output_type": "execute_result"
    }
   ],
   "source": [
    "4372.0/(160792*100)"
   ]
  },
  {
   "cell_type": "code",
   "execution_count": null,
   "metadata": {},
   "outputs": [],
   "source": []
  }
 ],
 "metadata": {
  "kernelspec": {
   "display_name": "Python 2",
   "language": "python",
   "name": "python2"
  },
  "language_info": {
   "codemirror_mode": {
    "name": "ipython",
    "version": 2
   },
   "file_extension": ".py",
   "mimetype": "text/x-python",
   "name": "python",
   "nbconvert_exporter": "python",
   "pygments_lexer": "ipython2",
   "version": "2.7.12"
  }
 },
 "nbformat": 4,
 "nbformat_minor": 2
}
