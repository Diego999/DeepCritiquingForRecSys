{
 "cells": [
  {
   "cell_type": "code",
   "execution_count": 1,
   "metadata": {},
   "outputs": [
    {
     "name": "stderr",
     "output_type": "stream",
     "text": [
      "/usr/local/lib/python2.7/dist-packages/h5py/__init__.py:36: FutureWarning: Conversion of the second argument of issubdtype from `float` to `np.floating` is deprecated. In future, it will be treated as `np.float64 == np.dtype(float).type`.\n",
      "  from ._conv import register_converters as _register_converters\n",
      "Using TensorFlow backend.\n"
     ]
    }
   ],
   "source": [
    "import re\n",
    "import ast\n",
    "import itertools\n",
    "from collections import Counter\n",
    "import pandas as pd\n",
    "import numpy as np\n",
    "import scipy.sparse as sparse\n",
    "\n",
    "from keras.preprocessing.text import one_hot\n",
    "from keras.preprocessing.text import text_to_word_sequence\n",
    "from keras.preprocessing.text import Tokenizer\n",
    "from keras.utils import plot_model\n",
    "\n",
    "from IPython.display import Image\n",
    "import matplotlib.pyplot as plt\n",
    "from tqdm import tqdm"
   ]
  },
  {
   "cell_type": "code",
   "execution_count": 2,
   "metadata": {
    "collapsed": true
   },
   "outputs": [],
   "source": [
    "itemIndex = 'ItemIndex'\n",
    "userIndex = 'UserIndex'\n",
    "rating = 'overall'\n",
    "binary = 'Binary'\n",
    "keyPhrase = 'keyVector'\n",
    "dataPath = 'data/baby/'\n",
    "dataName = 'Data.csv'\n",
    "KeyPhraseName = 'KeyPhrases.csv'\n",
    "embedding_dims = 50"
   ]
  },
  {
   "cell_type": "code",
   "execution_count": 3,
   "metadata": {},
   "outputs": [
    {
     "data": {
      "text/html": [
       "<div>\n",
       "<style>\n",
       "    .dataframe thead tr:only-child th {\n",
       "        text-align: right;\n",
       "    }\n",
       "\n",
       "    .dataframe thead th {\n",
       "        text-align: left;\n",
       "    }\n",
       "\n",
       "    .dataframe tbody tr th {\n",
       "        vertical-align: top;\n",
       "    }\n",
       "</style>\n",
       "<table border=\"1\" class=\"dataframe\">\n",
       "  <thead>\n",
       "    <tr style=\"text-align: right;\">\n",
       "      <th></th>\n",
       "      <th>Unnamed: 0</th>\n",
       "      <th>overall</th>\n",
       "      <th>unixReviewTime</th>\n",
       "      <th>vector</th>\n",
       "      <th>keyVector</th>\n",
       "      <th>UserIndex</th>\n",
       "      <th>ItemIndex</th>\n",
       "      <th>Binary</th>\n",
       "    </tr>\n",
       "  </thead>\n",
       "  <tbody>\n",
       "    <tr>\n",
       "      <th>0</th>\n",
       "      <td>0</td>\n",
       "      <td>5</td>\n",
       "      <td>1373932800</td>\n",
       "      <td>[152, 9, 204, 586, 19, 106, 185, 3, 127, 1924,...</td>\n",
       "      <td>[0, 0, 0, 0, 0, 0, 0, 0, 0, 0, 0, 0, 0, 0, 0, ...</td>\n",
       "      <td>2496</td>\n",
       "      <td>0</td>\n",
       "      <td>1</td>\n",
       "    </tr>\n",
       "    <tr>\n",
       "      <th>1</th>\n",
       "      <td>1</td>\n",
       "      <td>5</td>\n",
       "      <td>1372464000</td>\n",
       "      <td>[8, 834, 7, 451, 6, 572, 1189, 5, 50, 111, 18,...</td>\n",
       "      <td>[0, 0, 0, 0, 0, 0, 0, 0, 0, 0, 0, 0, 0, 0, 0, ...</td>\n",
       "      <td>1343</td>\n",
       "      <td>0</td>\n",
       "      <td>1</td>\n",
       "    </tr>\n",
       "    <tr>\n",
       "      <th>2</th>\n",
       "      <td>2</td>\n",
       "      <td>5</td>\n",
       "      <td>1395187200</td>\n",
       "      <td>[539, 80, 205, 619, 119, 12, 233, 212, 50, 118...</td>\n",
       "      <td>[0, 0, 0, 0, 0, 0, 0, 0, 0, 0, 0, 0, 0, 0, 0, ...</td>\n",
       "      <td>8234</td>\n",
       "      <td>0</td>\n",
       "      <td>1</td>\n",
       "    </tr>\n",
       "    <tr>\n",
       "      <th>3</th>\n",
       "      <td>3</td>\n",
       "      <td>5</td>\n",
       "      <td>1376697600</td>\n",
       "      <td>[4, 87, 8, 6, 157, 243, 9, 12, 352, 75, 2, 17,...</td>\n",
       "      <td>[0, 0, 0, 0, 0, 0, 0, 0, 0, 0, 0, 0, 0, 0, 0, ...</td>\n",
       "      <td>15045</td>\n",
       "      <td>0</td>\n",
       "      <td>1</td>\n",
       "    </tr>\n",
       "    <tr>\n",
       "      <th>4</th>\n",
       "      <td>4</td>\n",
       "      <td>4</td>\n",
       "      <td>1396310400</td>\n",
       "      <td>[4, 284, 85, 1524, 3, 7983, 39, 919, 7886, 612...</td>\n",
       "      <td>[0, 0, 0, 0, 0, 0, 0, 0, 0, 0, 0, 0, 0, 0, 0, ...</td>\n",
       "      <td>5810</td>\n",
       "      <td>0</td>\n",
       "      <td>1</td>\n",
       "    </tr>\n",
       "  </tbody>\n",
       "</table>\n",
       "</div>"
      ],
      "text/plain": [
       "   Unnamed: 0  overall  unixReviewTime  \\\n",
       "0           0        5      1373932800   \n",
       "1           1        5      1372464000   \n",
       "2           2        5      1395187200   \n",
       "3           3        5      1376697600   \n",
       "4           4        4      1396310400   \n",
       "\n",
       "                                              vector  \\\n",
       "0  [152, 9, 204, 586, 19, 106, 185, 3, 127, 1924,...   \n",
       "1  [8, 834, 7, 451, 6, 572, 1189, 5, 50, 111, 18,...   \n",
       "2  [539, 80, 205, 619, 119, 12, 233, 212, 50, 118...   \n",
       "3  [4, 87, 8, 6, 157, 243, 9, 12, 352, 75, 2, 17,...   \n",
       "4  [4, 284, 85, 1524, 3, 7983, 39, 919, 7886, 612...   \n",
       "\n",
       "                                           keyVector  UserIndex  ItemIndex  \\\n",
       "0  [0, 0, 0, 0, 0, 0, 0, 0, 0, 0, 0, 0, 0, 0, 0, ...       2496          0   \n",
       "1  [0, 0, 0, 0, 0, 0, 0, 0, 0, 0, 0, 0, 0, 0, 0, ...       1343          0   \n",
       "2  [0, 0, 0, 0, 0, 0, 0, 0, 0, 0, 0, 0, 0, 0, 0, ...       8234          0   \n",
       "3  [0, 0, 0, 0, 0, 0, 0, 0, 0, 0, 0, 0, 0, 0, 0, ...      15045          0   \n",
       "4  [0, 0, 0, 0, 0, 0, 0, 0, 0, 0, 0, 0, 0, 0, 0, ...       5810          0   \n",
       "\n",
       "   Binary  \n",
       "0       1  \n",
       "1       1  \n",
       "2       1  \n",
       "3       1  \n",
       "4       1  "
      ]
     },
     "execution_count": 3,
     "metadata": {},
     "output_type": "execute_result"
    }
   ],
   "source": [
    "df = pd.read_csv(dataPath+dataName)\n",
    "df.head()"
   ]
  },
  {
   "cell_type": "code",
   "execution_count": 4,
   "metadata": {},
   "outputs": [
    {
     "name": "stdout",
     "output_type": "stream",
     "text": [
      "Number of User: 19445\n",
      "Number of Item: 7050\n",
      "Number of key Phrase: 50\n"
     ]
    }
   ],
   "source": [
    "num_user = df[userIndex].nunique()\n",
    "num_item = df[itemIndex].nunique()\n",
    "num_keyPhrases = len(ast.literal_eval(df[keyPhrase][0]))\n",
    "print(\"Number of User: {0}\".format(num_user))\n",
    "print(\"Number of Item: {0}\".format(num_item))\n",
    "print(\"Number of key Phrase: {0}\".format(num_keyPhrases))"
   ]
  },
  {
   "cell_type": "code",
   "execution_count": 5,
   "metadata": {},
   "outputs": [],
   "source": [
    "msk = np.random.rand(len(df)) < 0.8\n",
    "train_df = df[msk]\n",
    "test_df = df[~msk]"
   ]
  },
  {
   "cell_type": "code",
   "execution_count": 6,
   "metadata": {},
   "outputs": [],
   "source": [
    "def getArrays(df):\n",
    "    users = df[userIndex].as_matrix()\n",
    "    items = df[itemIndex].as_matrix()\n",
    "    ratings = df[rating].as_matrix()\n",
    "    keys = np.array(df[keyPhrase].apply(ast.literal_eval).values.tolist())\n",
    "    return [users,items,ratings,keys]\n",
    "\n",
    "train_array = getArrays(train_df)\n",
    "test_array = getArrays(test_df)"
   ]
  },
  {
   "cell_type": "markdown",
   "metadata": {},
   "source": [
    "## Negative Sampling\n",
    "Use negative sampling only when implicit feedback!"
   ]
  },
  {
   "cell_type": "code",
   "execution_count": 7,
   "metadata": {},
   "outputs": [],
   "source": [
    "# def negative_data(df, size_per_user):\n",
    "\n",
    "#     m = df[userIndex].nunique()\n",
    "#     n = df[itemIndex].nunique()\n",
    "    \n",
    "#     users = []\n",
    "#     items = []\n",
    "\n",
    "#     negative_data = []\n",
    "#     for i in range(m):\n",
    "#         sampled_items = np.random.choice(n, size_per_user, replace=False)\n",
    "#         observed_items = df[df[userIndex] == i][itemIndex].as_matrix().flatten()\n",
    "#         sampled_items = sampled_items[np.invert(np.isin(sampled_items, observed_items))]\n",
    "#         users += [i]*len(sampled_items)\n",
    "#         items += sampled_items.tolist()\n",
    "        \n",
    "#     ratings = [0]*len(users)\n",
    "#     keys = np.zeros([len(users), num_keyPhrases])\n",
    "\n",
    "#     return [np.array(users),np.array(items),np.array(ratings),keys]\n",
    "# negative_data = negative_data(train_df, 100)"
   ]
  },
  {
   "cell_type": "code",
   "execution_count": 8,
   "metadata": {
    "collapsed": true
   },
   "outputs": [],
   "source": [
    "# def concateData(positive, negative):\n",
    "#     users = np.concatenate([positive[0], negative[0]])\n",
    "#     items = np.concatenate([positive[1], negative[1]])\n",
    "#     ratings = np.concatenate([positive[2], negative[2]])\n",
    "#     keys = np.concatenate([positive[3], negative[3]])\n",
    "#     return [np.array(users),np.array(items),np.array(ratings),keys]\n",
    "\n",
    "# train_array = concateData(train_array, negative_data)"
   ]
  },
  {
   "cell_type": "markdown",
   "metadata": {},
   "source": [
    "## Model"
   ]
  },
  {
   "cell_type": "code",
   "execution_count": 9,
   "metadata": {
    "collapsed": true
   },
   "outputs": [],
   "source": [
    "from keras.models import Model\n",
    "from keras.layers import *   \n",
    "from keras.backend import reshape"
   ]
  },
  {
   "cell_type": "code",
   "execution_count": 10,
   "metadata": {},
   "outputs": [],
   "source": [
    "def build_model():\n",
    "    userIndex = Input(shape=(1,), name='userIndex')\n",
    "    itemIndex = Input(shape=(1,), name='itemIndex')\n",
    "\n",
    "    userEmbedding = Embedding(num_user, embedding_dims, name='userEmbedding')(userIndex)\n",
    "    itemEmbedding = Embedding(num_item, embedding_dims, name='itemEmbedding')(itemIndex)\n",
    "\n",
    "    merged = concatenate([userEmbedding, itemEmbedding])\n",
    "    x = Flatten()(merged)\n",
    "    x = BatchNormalization()(x)\n",
    "    # a layer instance is callable on a tensor, and returns a tensor\n",
    "    x = Dense(64, activation='relu')(x)\n",
    "    x = BatchNormalization()(x)\n",
    "    x = Dense(64, activation='relu')(x)\n",
    "    hidden = BatchNormalization()(x)\n",
    "    pred_rating= Dense(1, activation='linear', name='rating')(hidden)\n",
    "    pred_keyPhrase= Dense(num_keyPhrases, activation='sigmoid', name='keyPhrase')(hidden)\n",
    "\n",
    "    # This creates a model that includes\n",
    "    # the Input layer and three Dense layers\n",
    "    model = Model(inputs=[userIndex, itemIndex], outputs=[pred_rating, pred_keyPhrase])\n",
    "    model.compile(optimizer='rmsprop',\n",
    "                  loss=[\"mean_squared_error\", \"mean_squared_error\"],\n",
    "                  loss_weights = [1.3,1],\n",
    "                  metrics=['accuracy'])\n",
    "\n",
    "    return model\n",
    "\n",
    "model = build_model()"
   ]
  },
  {
   "cell_type": "code",
   "execution_count": 11,
   "metadata": {
    "scrolled": true
   },
   "outputs": [
    {
     "name": "stdout",
     "output_type": "stream",
     "text": [
      "__________________________________________________________________________________________________\n",
      "Layer (type)                    Output Shape         Param #     Connected to                     \n",
      "==================================================================================================\n",
      "userIndex (InputLayer)          (None, 1)            0                                            \n",
      "__________________________________________________________________________________________________\n",
      "itemIndex (InputLayer)          (None, 1)            0                                            \n",
      "__________________________________________________________________________________________________\n",
      "userEmbedding (Embedding)       (None, 1, 50)        972250      userIndex[0][0]                  \n",
      "__________________________________________________________________________________________________\n",
      "itemEmbedding (Embedding)       (None, 1, 50)        352500      itemIndex[0][0]                  \n",
      "__________________________________________________________________________________________________\n",
      "concatenate_1 (Concatenate)     (None, 1, 100)       0           userEmbedding[0][0]              \n",
      "                                                                 itemEmbedding[0][0]              \n",
      "__________________________________________________________________________________________________\n",
      "flatten_1 (Flatten)             (None, 100)          0           concatenate_1[0][0]              \n",
      "__________________________________________________________________________________________________\n",
      "batch_normalization_1 (BatchNor (None, 100)          400         flatten_1[0][0]                  \n",
      "__________________________________________________________________________________________________\n",
      "dense_1 (Dense)                 (None, 64)           6464        batch_normalization_1[0][0]      \n",
      "__________________________________________________________________________________________________\n",
      "batch_normalization_2 (BatchNor (None, 64)           256         dense_1[0][0]                    \n",
      "__________________________________________________________________________________________________\n",
      "dense_2 (Dense)                 (None, 64)           4160        batch_normalization_2[0][0]      \n",
      "__________________________________________________________________________________________________\n",
      "batch_normalization_3 (BatchNor (None, 64)           256         dense_2[0][0]                    \n",
      "__________________________________________________________________________________________________\n",
      "rating (Dense)                  (None, 1)            65          batch_normalization_3[0][0]      \n",
      "__________________________________________________________________________________________________\n",
      "keyPhrase (Dense)               (None, 50)           3250        batch_normalization_3[0][0]      \n",
      "==================================================================================================\n",
      "Total params: 1,339,601\n",
      "Trainable params: 1,339,145\n",
      "Non-trainable params: 456\n",
      "__________________________________________________________________________________________________\n"
     ]
    }
   ],
   "source": [
    "model.summary()"
   ]
  },
  {
   "cell_type": "code",
   "execution_count": 12,
   "metadata": {},
   "outputs": [
    {
     "data": {
      "image/png": "[encoded data removed]",
      "text/plain": [
       "<IPython.core.display.Image object>"
      ]
     },
     "execution_count": 12,
     "metadata": {},
     "output_type": "execute_result"
    }
   ],
   "source": [
    "plot_model(model, to_file='multiple_outputs.png')\n",
    "Image(filename='multiple_outputs.png') "
   ]
  },
  {
   "cell_type": "code",
   "execution_count": 13,
   "metadata": {},
   "outputs": [
    {
     "name": "stdout",
     "output_type": "stream",
     "text": [
      "Train on 144773 samples, validate on 16019 samples\n",
      "Epoch 1/10\n",
      "144773/144773 [==============================] - 48s 334us/step - loss: 17.8670 - rating_loss: 1.7857 - keyPhrase_loss: 0.0096 - rating_acc: 0.2859 - keyPhrase_acc: 0.0064 - val_loss: 12.9539 - val_rating_loss: 1.2953 - val_keyPhrase_loss: 0.0012 - val_rating_acc: 0.3329 - val_keyPhrase_acc: 0.0054\n",
      "Epoch 2/10\n",
      "144773/144773 [==============================] - 48s 330us/step - loss: 12.0398 - rating_loss: 1.2039 - keyPhrase_loss: 0.0013 - rating_acc: 0.3406 - keyPhrase_acc: 0.0060 - val_loss: 12.3624 - val_rating_loss: 1.2361 - val_keyPhrase_loss: 0.0012 - val_rating_acc: 0.3830 - val_keyPhrase_acc: 0.0054\n",
      "Epoch 3/10\n",
      "144773/144773 [==============================] - 48s 329us/step - loss: 10.5424 - rating_loss: 1.0541 - keyPhrase_loss: 0.0013 - rating_acc: 0.4204 - keyPhrase_acc: 0.0061 - val_loss: 12.2491 - val_rating_loss: 1.2248 - val_keyPhrase_loss: 0.0012 - val_rating_acc: 0.3346 - val_keyPhrase_acc: 0.0054\n",
      "Epoch 4/10\n",
      "144773/144773 [==============================] - 48s 330us/step - loss: 9.3224 - rating_loss: 0.9321 - keyPhrase_loss: 0.0013 - rating_acc: 0.4785 - keyPhrase_acc: 0.0062 - val_loss: 12.7675 - val_rating_loss: 1.2766 - val_keyPhrase_loss: 0.0012 - val_rating_acc: 0.3970 - val_keyPhrase_acc: 0.0057\n",
      "Epoch 5/10\n",
      "144773/144773 [==============================] - 48s 332us/step - loss: 8.2906 - rating_loss: 0.8289 - keyPhrase_loss: 0.0013 - rating_acc: 0.5205 - keyPhrase_acc: 0.0063 - val_loss: 13.2397 - val_rating_loss: 1.3239 - val_keyPhrase_loss: 0.0012 - val_rating_acc: 0.4339 - val_keyPhrase_acc: 0.0055\n",
      "Epoch 6/10\n",
      "144773/144773 [==============================] - 48s 329us/step - loss: 7.3965 - rating_loss: 0.7395 - keyPhrase_loss: 0.0013 - rating_acc: 0.5552 - keyPhrase_acc: 0.0061 - val_loss: 13.9335 - val_rating_loss: 1.3932 - val_keyPhrase_loss: 0.0012 - val_rating_acc: 0.4044 - val_keyPhrase_acc: 0.0054\n",
      "Epoch 7/10\n",
      "144773/144773 [==============================] - 48s 329us/step - loss: 6.6568 - rating_loss: 0.6656 - keyPhrase_loss: 0.0013 - rating_acc: 0.5798 - keyPhrase_acc: 0.0062 - val_loss: 13.9565 - val_rating_loss: 1.3955 - val_keyPhrase_loss: 0.0012 - val_rating_acc: 0.3824 - val_keyPhrase_acc: 0.0050\n",
      "Epoch 8/10\n",
      "144773/144773 [==============================] - 48s 330us/step - loss: 6.0330 - rating_loss: 0.6032 - keyPhrase_loss: 0.0013 - rating_acc: 0.6031 - keyPhrase_acc: 0.0061 - val_loss: 14.5001 - val_rating_loss: 1.4499 - val_keyPhrase_loss: 0.0012 - val_rating_acc: 0.4040 - val_keyPhrase_acc: 0.0052\n",
      "Epoch 9/10\n",
      "144773/144773 [==============================] - 48s 331us/step - loss: 5.5200 - rating_loss: 0.5519 - keyPhrase_loss: 0.0013 - rating_acc: 0.6227 - keyPhrase_acc: 0.0060 - val_loss: 14.6412 - val_rating_loss: 1.4640 - val_keyPhrase_loss: 0.0012 - val_rating_acc: 0.3998 - val_keyPhrase_acc: 0.0059\n",
      "Epoch 10/10\n",
      "144773/144773 [==============================] - 48s 330us/step - loss: 5.0740 - rating_loss: 0.5073 - keyPhrase_loss: 0.0013 - rating_acc: 0.6405 - keyPhrase_acc: 0.0061 - val_loss: 14.8279 - val_rating_loss: 1.4827 - val_keyPhrase_loss: 0.0012 - val_rating_acc: 0.3915 - val_keyPhrase_acc: 0.0054\n"
     ]
    }
   ],
   "source": [
    "history = model.fit(train_array[:2], train_array[2:], \n",
    "                    validation_data=(test_array[:2], test_array[2:]), epochs=10, batch_size=32)"
   ]
  },
  {
   "cell_type": "code",
   "execution_count": 14,
   "metadata": {},
   "outputs": [
    {
     "data": {
      "image/png": "[encoded data removed]",
      "text/plain": [
       "<matplotlib.figure.Figure at 0x7f495c374ed0>"
      ]
     },
     "metadata": {},
     "output_type": "display_data"
    },
    {
     "data": {
      "image/png": "[encoded data removed]",
      "text/plain": [
       "<matplotlib.figure.Figure at 0x7f492c00ffd0>"
      ]
     },
     "metadata": {},
     "output_type": "display_data"
    }
   ],
   "source": [
    "# Plot training & validation accuracy values\n",
    "plt.plot(history.history['rating_acc'])\n",
    "plt.plot(history.history['val_rating_acc'])\n",
    "plt.title('Model accuracy')\n",
    "plt.ylabel('Accuracy')\n",
    "plt.xlabel('Epoch')\n",
    "plt.legend(['Train', 'Test'], loc='upper left')\n",
    "plt.show()\n",
    "\n",
    "# Plot training & validation loss values\n",
    "plt.plot(history.history['rating_loss'])\n",
    "plt.plot(history.history['val_rating_loss'])\n",
    "plt.title('Model loss')\n",
    "plt.ylabel('Loss')\n",
    "plt.xlabel('Epoch')\n",
    "plt.legend(['Train', 'Test'], loc='upper left')\n",
    "plt.show()"
   ]
  },
  {
   "cell_type": "code",
   "execution_count": 15,
   "metadata": {},
   "outputs": [
    {
     "data": {
      "image/png": "[encoded data removed]",
      "text/plain": [
       "<matplotlib.figure.Figure at 0x7f4901876910>"
      ]
     },
     "metadata": {},
     "output_type": "display_data"
    },
    {
     "data": {
      "image/png": "[encoded data removed]",
      "text/plain": [
       "<matplotlib.figure.Figure at 0x7f48f0635610>"
      ]
     },
     "metadata": {},
     "output_type": "display_data"
    }
   ],
   "source": [
    "# Plot training & validation accuracy values\n",
    "plt.plot(history.history['keyPhrase_acc'])\n",
    "plt.plot(history.history['val_keyPhrase_acc'])\n",
    "plt.title('Model accuracy')\n",
    "plt.ylabel('Accuracy')\n",
    "plt.xlabel('Epoch')\n",
    "plt.legend(['Train', 'Test'], loc='upper left')\n",
    "plt.show()\n",
    "\n",
    "# Plot training & validation loss values\n",
    "plt.plot(history.history['keyPhrase_loss'])\n",
    "plt.plot(history.history['val_keyPhrase_loss'])\n",
    "plt.title('Model loss')\n",
    "plt.ylabel('Loss')\n",
    "plt.xlabel('Epoch')\n",
    "plt.legend(['Train', 'Test'], loc='upper left')\n",
    "plt.show()"
   ]
  },
  {
   "cell_type": "code",
   "execution_count": 16,
   "metadata": {
    "collapsed": true
   },
   "outputs": [],
   "source": [
    "prediction = model.predict(test_array[:2])"
   ]
  },
  {
   "cell_type": "code",
   "execution_count": 17,
   "metadata": {},
   "outputs": [
    {
     "data": {
      "text/plain": [
       "[array([[4.579327 ],\n",
       "        [4.720199 ],\n",
       "        [4.48505  ],\n",
       "        ...,\n",
       "        [4.6834364],\n",
       "        [4.757323 ],\n",
       "        [3.5493033]], dtype=float32),\n",
       " array([[1.6082287e-05, 5.2281566e-06, 1.6599020e-05, ..., 6.1865380e-06,\n",
       "         4.1535892e-05, 6.8693400e-05],\n",
       "        [3.4328968e-05, 1.0606703e-05, 4.1878819e-05, ..., 1.1241272e-05,\n",
       "         1.4430651e-04, 2.1889913e-04],\n",
       "        [5.9928147e-06, 2.7363296e-06, 7.1359841e-06, ..., 2.7724791e-06,\n",
       "         2.2472397e-05, 2.3977162e-05],\n",
       "        ...,\n",
       "        [5.6835952e-06, 2.6300074e-06, 6.9648795e-06, ..., 3.1208040e-06,\n",
       "         2.6156220e-05, 3.1226944e-05],\n",
       "        [3.3427352e-06, 8.2049655e-07, 2.3952502e-06, ..., 1.1081165e-06,\n",
       "         7.9729680e-06, 2.3846498e-05],\n",
       "        [1.1471633e-05, 7.4878435e-06, 1.2906067e-05, ..., 6.7601932e-06,\n",
       "         3.7841692e-05, 3.3934022e-05]], dtype=float32)]"
      ]
     },
     "execution_count": 17,
     "metadata": {},
     "output_type": "execute_result"
    }
   ],
   "source": [
    "prediction"
   ]
  },
  {
   "cell_type": "code",
   "execution_count": 18,
   "metadata": {
    "collapsed": true
   },
   "outputs": [],
   "source": [
    "def PredictTopK(model, topK_item, topK_keyPhrase, keyPhrase):\n",
    "    \n",
    "    explain_dicts = []\n",
    "    for i in tqdm(range(5)):\n",
    "        inputs = [np.array([i]*num_item), np.arange(num_item)]\n",
    "        predictions = model.predict(inputs)\n",
    "        index_topK = np.argsort(predictions[0].flatten())[::-1][:topK_item]\n",
    "        for j in index_topK:\n",
    "            explain = keyPhrase[np.argsort(predictions[1][j].flatten())[::-1][:topK_keyPhrase]]\n",
    "            explain_dicts.append({'UserIndex': i, 'ItemIndex': j, 'Explanation': explain})\n",
    "            \n",
    "    return pd.DataFrame(explain_dicts)"
   ]
  },
  {
   "cell_type": "code",
   "execution_count": 19,
   "metadata": {},
   "outputs": [],
   "source": [
    "df = pd.read_csv(dataPath+KeyPhraseName)\n",
    "keyPhrase = np.array(df['Phrases'].tolist())"
   ]
  },
  {
   "cell_type": "code",
   "execution_count": 20,
   "metadata": {
    "scrolled": true
   },
   "outputs": [
    {
     "name": "stderr",
     "output_type": "stream",
     "text": [
      "100%|██████████| 5/5 [00:02<00:00,  2.18it/s]\n"
     ]
    }
   ],
   "source": [
    "df_explain = PredictTopK(model, 3, 3, keyPhrase)"
   ]
  },
  {
   "cell_type": "code",
   "execution_count": 21,
   "metadata": {},
   "outputs": [
    {
     "data": {
      "text/html": [
       "<div>\n",
       "<style>\n",
       "    .dataframe thead tr:only-child th {\n",
       "        text-align: right;\n",
       "    }\n",
       "\n",
       "    .dataframe thead th {\n",
       "        text-align: left;\n",
       "    }\n",
       "\n",
       "    .dataframe tbody tr th {\n",
       "        vertical-align: top;\n",
       "    }\n",
       "</style>\n",
       "<table border=\"1\" class=\"dataframe\">\n",
       "  <thead>\n",
       "    <tr style=\"text-align: right;\">\n",
       "      <th></th>\n",
       "      <th>Explanation</th>\n",
       "      <th>ItemIndex</th>\n",
       "      <th>UserIndex</th>\n",
       "    </tr>\n",
       "  </thead>\n",
       "  <tbody>\n",
       "    <tr>\n",
       "      <th>0</th>\n",
       "      <td>[customer service, gender neutral, skip hop]</td>\n",
       "      <td>2455</td>\n",
       "      <td>0</td>\n",
       "    </tr>\n",
       "    <tr>\n",
       "      <th>1</th>\n",
       "      <td>[customer service, gender neutral, nail clipper]</td>\n",
       "      <td>4539</td>\n",
       "      <td>0</td>\n",
       "    </tr>\n",
       "    <tr>\n",
       "      <th>2</th>\n",
       "      <td>[customer service, gender neutral, skip hop]</td>\n",
       "      <td>5861</td>\n",
       "      <td>0</td>\n",
       "    </tr>\n",
       "    <tr>\n",
       "      <th>3</th>\n",
       "      <td>[customer service, gender neutral, skip hop]</td>\n",
       "      <td>1391</td>\n",
       "      <td>1</td>\n",
       "    </tr>\n",
       "    <tr>\n",
       "      <th>4</th>\n",
       "      <td>[customer service, gender neutral, skip hop]</td>\n",
       "      <td>6092</td>\n",
       "      <td>1</td>\n",
       "    </tr>\n",
       "    <tr>\n",
       "      <th>5</th>\n",
       "      <td>[customer service, gender neutral, skip hop]</td>\n",
       "      <td>748</td>\n",
       "      <td>1</td>\n",
       "    </tr>\n",
       "    <tr>\n",
       "      <th>6</th>\n",
       "      <td>[thank goodness, gender neutral, peg perego]</td>\n",
       "      <td>4551</td>\n",
       "      <td>2</td>\n",
       "    </tr>\n",
       "    <tr>\n",
       "      <th>7</th>\n",
       "      <td>[thank goodness, peg perego, oxo tot]</td>\n",
       "      <td>6140</td>\n",
       "      <td>2</td>\n",
       "    </tr>\n",
       "    <tr>\n",
       "      <th>8</th>\n",
       "      <td>[aden +, thank goodness, + anais]</td>\n",
       "      <td>1208</td>\n",
       "      <td>2</td>\n",
       "    </tr>\n",
       "    <tr>\n",
       "      <th>9</th>\n",
       "      <td>[aden +, choking hazard, peg perego]</td>\n",
       "      <td>5002</td>\n",
       "      <td>3</td>\n",
       "    </tr>\n",
       "    <tr>\n",
       "      <th>10</th>\n",
       "      <td>[planet wise, peg perego, aden +]</td>\n",
       "      <td>2723</td>\n",
       "      <td>3</td>\n",
       "    </tr>\n",
       "    <tr>\n",
       "      <th>11</th>\n",
       "      <td>[planet wise, aden +, oxo tot]</td>\n",
       "      <td>1109</td>\n",
       "      <td>3</td>\n",
       "    </tr>\n",
       "    <tr>\n",
       "      <th>12</th>\n",
       "      <td>[nail clipper, gender neutral, reasonably priced]</td>\n",
       "      <td>5555</td>\n",
       "      <td>4</td>\n",
       "    </tr>\n",
       "    <tr>\n",
       "      <th>13</th>\n",
       "      <td>[aden +, oxo tot, acid reflux]</td>\n",
       "      <td>2837</td>\n",
       "      <td>4</td>\n",
       "    </tr>\n",
       "    <tr>\n",
       "      <th>14</th>\n",
       "      <td>[aden +, + anais, customer service]</td>\n",
       "      <td>3956</td>\n",
       "      <td>4</td>\n",
       "    </tr>\n",
       "  </tbody>\n",
       "</table>\n",
       "</div>"
      ],
      "text/plain": [
       "                                          Explanation  ItemIndex  UserIndex\n",
       "0        [customer service, gender neutral, skip hop]       2455          0\n",
       "1    [customer service, gender neutral, nail clipper]       4539          0\n",
       "2        [customer service, gender neutral, skip hop]       5861          0\n",
       "3        [customer service, gender neutral, skip hop]       1391          1\n",
       "4        [customer service, gender neutral, skip hop]       6092          1\n",
       "5        [customer service, gender neutral, skip hop]        748          1\n",
       "6        [thank goodness, gender neutral, peg perego]       4551          2\n",
       "7               [thank goodness, peg perego, oxo tot]       6140          2\n",
       "8                   [aden +, thank goodness, + anais]       1208          2\n",
       "9                [aden +, choking hazard, peg perego]       5002          3\n",
       "10                  [planet wise, peg perego, aden +]       2723          3\n",
       "11                     [planet wise, aden +, oxo tot]       1109          3\n",
       "12  [nail clipper, gender neutral, reasonably priced]       5555          4\n",
       "13                     [aden +, oxo tot, acid reflux]       2837          4\n",
       "14                [aden +, + anais, customer service]       3956          4"
      ]
     },
     "execution_count": 21,
     "metadata": {},
     "output_type": "execute_result"
    }
   ],
   "source": [
    "df_explain"
   ]
  },
  {
   "cell_type": "markdown",
   "metadata": {},
   "source": [
    "# Problem\n",
    "it seems key word selected from data processing has problem. Those keys phrases are too sparse and also not very informative. Should think better idea to extract key phrases."
   ]
  },
  {
   "cell_type": "code",
   "execution_count": null,
   "metadata": {
    "collapsed": true
   },
   "outputs": [],
   "source": []
  }
 ],
 "metadata": {
  "kernelspec": {
   "display_name": "Python 2",
   "language": "python",
   "name": "python2"
  },
  "language_info": {
   "codemirror_mode": {
    "name": "ipython",
    "version": 2
   },
   "file_extension": ".py",
   "mimetype": "text/x-python",
   "name": "python",
   "nbconvert_exporter": "python",
   "pygments_lexer": "ipython2",
   "version": "2.7.12"
  }
 },
 "nbformat": 4,
 "nbformat_minor": 2
}
