{
 "cells": [
  {
   "cell_type": "code",
   "execution_count": 1,
   "metadata": {},
   "outputs": [
    {
     "name": "stdout",
     "output_type": "stream",
     "text": [
      "[nltk_data] Downloading package averaged_perceptron_tagger to\n",
      "[nltk_data]     /home/wuga/nltk_data...\n",
      "[nltk_data]   Package averaged_perceptron_tagger is already up-to-\n",
      "[nltk_data]       date!\n"
     ]
    }
   ],
   "source": [
    "import pandas as pd\n",
    "import matplotlib.pyplot as plt\n",
    "from nltk.tokenize import RegexpTokenizer\n",
    "from collections import Counter\n",
    "import nltk\n",
    "import re\n",
    "nltk.download('averaged_perceptron_tagger')\n",
    "from nltk.corpus import stopwords\n",
    "from nltk.tag import PerceptronTagger\n",
    "from nltk.data import find\n",
    "from tqdm import tqdm"
   ]
  },
  {
   "cell_type": "code",
   "execution_count": 2,
   "metadata": {},
   "outputs": [
    {
     "name": "stderr",
     "output_type": "stream",
     "text": [
      "8898041it [02:22, 62465.16it/s]\n"
     ]
    }
   ],
   "source": [
    "import json\n",
    "from tqdm import tqdm\n",
    "\n",
    "user_count = Counter()\n",
    "item_count = Counter()\n",
    "with open('data/book/Books_5.json') as f:\n",
    "    for line in tqdm(f):\n",
    "        line_content = json.loads(line)\n",
    "        if len(line_content['reviewText']) > 20:\n",
    "            user_count[line_content['reviewerID']] += 1\n",
    "            item_count[line_content['asin']] += 1\n",
    "        \n",
    "user_candidates = {x for x in user_count if (user_count[x] >= 50) and (user_count[x] <= 2000)}\n",
    "item_candidates = {x for x in item_count if (item_count[x] >= 50) and (item_count[x] <= 2000)}"
   ]
  },
  {
   "cell_type": "code",
   "execution_count": 3,
   "metadata": {},
   "outputs": [
    {
     "name": "stderr",
     "output_type": "stream",
     "text": [
      "8898041it [02:26, 60695.69it/s]\n"
     ]
    }
   ],
   "source": [
    "data = []\n",
    "with open('data/book/Books_5.json') as f:\n",
    "    for line in tqdm(f):\n",
    "        line_content = json.loads(line)\n",
    "        if (line_content['reviewerID'] in user_candidates \n",
    "            and line_content['asin'] in item_candidates):\n",
    "            data.append(line_content)\n",
    "            \n",
    "df = pd.DataFrame(data)"
   ]
  },
  {
   "cell_type": "code",
   "execution_count": 4,
   "metadata": {},
   "outputs": [
    {
     "data": {
      "text/html": [
       "<div>\n",
       "<style>\n",
       "    .dataframe thead tr:only-child th {\n",
       "        text-align: right;\n",
       "    }\n",
       "\n",
       "    .dataframe thead th {\n",
       "        text-align: left;\n",
       "    }\n",
       "\n",
       "    .dataframe tbody tr th {\n",
       "        vertical-align: top;\n",
       "    }\n",
       "</style>\n",
       "<table border=\"1\" class=\"dataframe\">\n",
       "  <thead>\n",
       "    <tr style=\"text-align: right;\">\n",
       "      <th></th>\n",
       "      <th>asin</th>\n",
       "      <th>helpful</th>\n",
       "      <th>overall</th>\n",
       "      <th>reviewText</th>\n",
       "      <th>reviewTime</th>\n",
       "      <th>reviewerID</th>\n",
       "      <th>reviewerName</th>\n",
       "      <th>summary</th>\n",
       "      <th>unixReviewTime</th>\n",
       "    </tr>\n",
       "  </thead>\n",
       "  <tbody>\n",
       "    <tr>\n",
       "      <th>0</th>\n",
       "      <td>000100039X</td>\n",
       "      <td>[0, 2]</td>\n",
       "      <td>5.0</td>\n",
       "      <td>This is one my must have books. It is a master...</td>\n",
       "      <td>12 11, 2003</td>\n",
       "      <td>A2S166WSCFIFP5</td>\n",
       "      <td>adead_poet@hotmail.com \"adead_poet@hotmail.com\"</td>\n",
       "      <td>close to god</td>\n",
       "      <td>1071100800</td>\n",
       "    </tr>\n",
       "    <tr>\n",
       "      <th>1</th>\n",
       "      <td>000100039X</td>\n",
       "      <td>[7, 9]</td>\n",
       "      <td>5.0</td>\n",
       "      <td>A timeless classic.  It is a very demanding an...</td>\n",
       "      <td>10 7, 2002</td>\n",
       "      <td>A2XQ5LZHTD4AFT</td>\n",
       "      <td>Alaturka</td>\n",
       "      <td>A Modern Rumi</td>\n",
       "      <td>1033948800</td>\n",
       "    </tr>\n",
       "    <tr>\n",
       "      <th>2</th>\n",
       "      <td>000100039X</td>\n",
       "      <td>[81, 92]</td>\n",
       "      <td>5.0</td>\n",
       "      <td>This is one of the first (literary) books I re...</td>\n",
       "      <td>06 24, 2000</td>\n",
       "      <td>A1NPNGWBVD9AK3</td>\n",
       "      <td>Bruce Kendall \"BEK\"</td>\n",
       "      <td>Simple Wisdom</td>\n",
       "      <td>961804800</td>\n",
       "    </tr>\n",
       "    <tr>\n",
       "      <th>3</th>\n",
       "      <td>000100039X</td>\n",
       "      <td>[8, 10]</td>\n",
       "      <td>5.0</td>\n",
       "      <td>Gibran Khalil Gibran was born in 1883 in what ...</td>\n",
       "      <td>01 10, 2006</td>\n",
       "      <td>AWLFVCT9128JV</td>\n",
       "      <td>Dave_42 \"Dave_42\"</td>\n",
       "      <td>The Lessons Of Life</td>\n",
       "      <td>1136851200</td>\n",
       "    </tr>\n",
       "    <tr>\n",
       "      <th>4</th>\n",
       "      <td>000100039X</td>\n",
       "      <td>[0, 1]</td>\n",
       "      <td>5.0</td>\n",
       "      <td>As the author of a spiritually-themed book ent...</td>\n",
       "      <td>05 15, 2009</td>\n",
       "      <td>A1MCAHDE1F3Q6L</td>\n",
       "      <td>Davis Aujourd'hui</td>\n",
       "      <td>Eternal Truths</td>\n",
       "      <td>1242345600</td>\n",
       "    </tr>\n",
       "  </tbody>\n",
       "</table>\n",
       "</div>"
      ],
      "text/plain": [
       "         asin   helpful  overall  \\\n",
       "0  000100039X    [0, 2]      5.0   \n",
       "1  000100039X    [7, 9]      5.0   \n",
       "2  000100039X  [81, 92]      5.0   \n",
       "3  000100039X   [8, 10]      5.0   \n",
       "4  000100039X    [0, 1]      5.0   \n",
       "\n",
       "                                          reviewText   reviewTime  \\\n",
       "0  This is one my must have books. It is a master...  12 11, 2003   \n",
       "1  A timeless classic.  It is a very demanding an...   10 7, 2002   \n",
       "2  This is one of the first (literary) books I re...  06 24, 2000   \n",
       "3  Gibran Khalil Gibran was born in 1883 in what ...  01 10, 2006   \n",
       "4  As the author of a spiritually-themed book ent...  05 15, 2009   \n",
       "\n",
       "       reviewerID                                     reviewerName  \\\n",
       "0  A2S166WSCFIFP5  adead_poet@hotmail.com \"adead_poet@hotmail.com\"   \n",
       "1  A2XQ5LZHTD4AFT                                         Alaturka   \n",
       "2  A1NPNGWBVD9AK3                              Bruce Kendall \"BEK\"   \n",
       "3   AWLFVCT9128JV                                Dave_42 \"Dave_42\"   \n",
       "4  A1MCAHDE1F3Q6L                                Davis Aujourd'hui   \n",
       "\n",
       "               summary  unixReviewTime  \n",
       "0         close to god      1071100800  \n",
       "1        A Modern Rumi      1033948800  \n",
       "2        Simple Wisdom       961804800  \n",
       "3  The Lessons Of Life      1136851200  \n",
       "4       Eternal Truths      1242345600  "
      ]
     },
     "execution_count": 4,
     "metadata": {},
     "output_type": "execute_result"
    }
   ],
   "source": [
    "df.head()"
   ]
  },
  {
   "cell_type": "code",
   "execution_count": 5,
   "metadata": {},
   "outputs": [
    {
     "data": {
      "text/plain": [
       "1363863"
      ]
     },
     "execution_count": 5,
     "metadata": {},
     "output_type": "execute_result"
    }
   ],
   "source": [
    "len(df)"
   ]
  },
  {
   "cell_type": "code",
   "execution_count": 6,
   "metadata": {},
   "outputs": [
    {
     "data": {
      "text/plain": [
       "34309"
      ]
     },
     "execution_count": 6,
     "metadata": {},
     "output_type": "execute_result"
    }
   ],
   "source": [
    "df.asin.nunique()"
   ]
  },
  {
   "cell_type": "code",
   "execution_count": 7,
   "metadata": {},
   "outputs": [
    {
     "data": {
      "text/plain": [
       "22962"
      ]
     },
     "execution_count": 7,
     "metadata": {},
     "output_type": "execute_result"
    }
   ],
   "source": [
    "df.reviewerID.nunique()"
   ]
  },
  {
   "cell_type": "code",
   "execution_count": 8,
   "metadata": {},
   "outputs": [
    {
     "data": {
      "text/plain": [
       "0.0017312228480273687"
      ]
     },
     "execution_count": 8,
     "metadata": {},
     "output_type": "execute_result"
    }
   ],
   "source": [
    "float(len(df))/(df.asin.nunique()*df.reviewerID.nunique())"
   ]
  },
  {
   "cell_type": "code",
   "execution_count": 9,
   "metadata": {},
   "outputs": [
    {
     "data": {
      "text/plain": [
       "1476755590    756\n",
       "1476712980    551\n",
       "1476741182    536\n",
       "0988301318    526\n",
       "0439023491    521\n",
       "0062294776    520\n",
       "0307277674    519\n",
       "0307265439    516\n",
       "0989450201    510\n",
       "1476776016    490\n",
       "0989104400    489\n",
       "1476761779    487\n",
       "006230240X    487\n",
       "1480536466    487\n",
       "0385660065    474\n",
       "0451419707    466\n",
       "149539090X    461\n",
       "0989450236    460\n",
       "0425266745    455\n",
       "1490559175    455\n",
       "125005236X    450\n",
       "1476755604    447\n",
       "0143170104    439\n",
       "030728090X    439\n",
       "149043013X    437\n",
       "1495307352    431\n",
       "0989450252    429\n",
       "0307744434    427\n",
       "1455576506    420\n",
       "1481058134    416\n",
       "             ... \n",
       "B007SNA1RY      1\n",
       "B00FPQM7FU      1\n",
       "095682370X      1\n",
       "B009BE05R4      1\n",
       "0545222281      1\n",
       "0307952398      1\n",
       "0979640962      1\n",
       "B0089LOFL2      1\n",
       "B005HRYAXY      1\n",
       "1623152917      1\n",
       "1926760689      1\n",
       "1623152879      1\n",
       "0985816201      1\n",
       "0984825657      1\n",
       "B001E50WMG      1\n",
       "B004TS9FC8      1\n",
       "B00742WT1U      1\n",
       "B00B7ABJDO      1\n",
       "1623153107      1\n",
       "1623152585      1\n",
       "0670076074      1\n",
       "0957149832      1\n",
       "1892112019      1\n",
       "1621362450      1\n",
       "0062218042      1\n",
       "1250030056      1\n",
       "1569756066      1\n",
       "006082767X      1\n",
       "0446584517      1\n",
       "0980063809      1\n",
       "Name: asin, Length: 34309, dtype: int64"
      ]
     },
     "execution_count": 9,
     "metadata": {},
     "output_type": "execute_result"
    }
   ],
   "source": [
    "df.asin.value_counts()"
   ]
  },
  {
   "cell_type": "code",
   "execution_count": 10,
   "metadata": {},
   "outputs": [
    {
     "data": {
      "text/plain": [
       "A1JLU5H1CCENWX    922\n",
       "A22B13EJTZKCTM    830\n",
       "A1CNQTCRQ35IMM    816\n",
       "A1JKGTL51HHTU1    804\n",
       "AKPKPMWM6IIU5     795\n",
       "AC1K4OQOZ90RS     793\n",
       "A1D5RCOILPC9LX    791\n",
       "A3M174IC0VXOS2    653\n",
       "A27R2V3WLS43LP    648\n",
       "A3U7ELIED4WP4R    624\n",
       "A1BI8PUEHA5CHW    620\n",
       "A2F3M93RRLFQNJ    605\n",
       "AYT4FJYVCHYLE     599\n",
       "A1D2C0WDCSHUWZ    589\n",
       "A25KKXUQQ0OLWB    577\n",
       "A3PGGI7A6XCNF1    573\n",
       "A3KBRXW4PKK2MT    571\n",
       "A9LAPV8XNKZVZ     570\n",
       "A1S3IN6CSTBPY6    569\n",
       "A3IQ0P3M39IY8U    568\n",
       "A3Z9QN0RCOHEY     551\n",
       "A3OL1AX1IODBYL    549\n",
       "ABMX8XUNPR3LP     545\n",
       "ATFRPYKXCCTJX     543\n",
       "A2H44WVZS59KKT    540\n",
       "A2IEQ2QLPYH8I3    535\n",
       "A4SKIA2A7IDRX     532\n",
       "A3BFDEBT5IV4UN    532\n",
       "A3R19YKNL641X3    531\n",
       "A1RMHZSWZ7ZEQO    527\n",
       "                 ... \n",
       "A163XHRN2L89CE      1\n",
       "A3F1Z4VA9TM1K3      1\n",
       "AP5K9Z4FTDVCQ       1\n",
       "A1EMPMDDY58370      1\n",
       "A1FVWX4DY34C9K      1\n",
       "A39UR4IEZ242VO      1\n",
       "A2RIVDSK5LQ77G      1\n",
       "A3QXTB115496WJ      1\n",
       "A3QZE8SC2ZTAAZ      1\n",
       "A2UKWLNK4R52YN      1\n",
       "A30Z2R7GMIGF8X      1\n",
       "AJ8IAT1V9W40O       1\n",
       "AF01LS24SZOV8       1\n",
       "A354BNHLHETS7K      1\n",
       "AXA7RL5VUV4XF       1\n",
       "A1UPOTG5ZSR7EZ      1\n",
       "A1KZVXCQXJ51D8      1\n",
       "A21HZKOE04LOQ7      1\n",
       "ACJXHFW5PUFJ7       1\n",
       "A2KIZ8IGTCR2UJ      1\n",
       "A1Z9JN32F9EI2O      1\n",
       "A21CRF6SRA5TMS      1\n",
       "A3EZ4UKJO6GPOT      1\n",
       "AVM5ZNTS447RB       1\n",
       "A184W4IQT4W2GI      1\n",
       "A37MBZ6W0436G6      1\n",
       "AX1TXIYC9SSH7       1\n",
       "A1EW2OUHB5U44K      1\n",
       "A2R0O174GE9GA2      1\n",
       "AGAJITEU64H4A       1\n",
       "Name: reviewerID, Length: 22962, dtype: int64"
      ]
     },
     "execution_count": 10,
     "metadata": {},
     "output_type": "execute_result"
    }
   ],
   "source": [
    "df.reviewerID.value_counts()"
   ]
  },
  {
   "cell_type": "code",
   "execution_count": 11,
   "metadata": {},
   "outputs": [
    {
     "data": {
      "image/png": "[encoded data removed]",
      "text/plain": [
       "<matplotlib.figure.Figure at 0x7f34d5725fd0>"
      ]
     },
     "metadata": {},
     "output_type": "display_data"
    }
   ],
   "source": [
    "df.asin.value_counts().hist()\n",
    "plt.show()"
   ]
  },
  {
   "cell_type": "code",
   "execution_count": null,
   "metadata": {
    "collapsed": true
   },
   "outputs": [],
   "source": [
    "df.save_csv"
   ]
  }
 ],
 "metadata": {
  "kernelspec": {
   "display_name": "Python 2",
   "language": "python",
   "name": "python2"
  },
  "language_info": {
   "codemirror_mode": {
    "name": "ipython",
    "version": 2
   },
   "file_extension": ".py",
   "mimetype": "text/x-python",
   "name": "python",
   "nbconvert_exporter": "python",
   "pygments_lexer": "ipython2",
   "version": "2.7.12"
  }
 },
 "nbformat": 4,
 "nbformat_minor": 2
}
